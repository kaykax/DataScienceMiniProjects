{
 "cells": [
  {
   "cell_type": "markdown",
   "metadata": {},
   "source": [
    "## 1 ) Write code for two functions:\n",
    "# • The first function takes as input parameters w, b of a linear classifier as well as a data point\n",
    "# x, and returns the label for that point: sign(w · x + b). The label is either +1 or −1.\n",
    "# • The second function takes as input an array of data points and an array of labels (where each\n",
    "# label is +1 or −1), and runs the Perceptron algorithm to learn a linear classifier w, b. The\n",
    "# algorithm should begin by randomly permuting the data points."
   ]
  },
  {
   "cell_type": "code",
   "execution_count": 84,
   "metadata": {},
   "outputs": [],
   "source": [
    "import matplotlib.pyplot as plt  \n",
    "from sklearn.metrics import confusion_matrix\n",
    "import pandas as pd\n",
    "import numpy as np\n",
    "import os \n",
    "import sklearn\n",
    "from sklearn.model_selection import LeaveOneOut\n",
    "from sklearn.neighbors import KNeighborsClassifier\n",
    "from sklearn.model_selection import KFold\n",
    "from sklearn import datasets, linear_model\n",
    "from sklearn.model_selection import cross_val_score\n",
    "from sklearn.preprocessing import MinMaxScaler\n",
    "from sklearn.model_selection import train_test_split\n",
    "from sklearn.linear_model import LogisticRegression\n",
    "import sys\n",
    "\n",
    "\n",
    "import gzip\n",
    "import os\n",
    "import copy\n",
    "import random\n",
    "\n",
    "gra\n",
    "from sklearn.svm import LinearSVC\n",
    "from sklearn.pipeline import make_pipeline\n",
    "from sklearn.preprocessing import StandardScaler\n",
    "from sklearn.datasets import make_classification\n",
    "import seaborn as sns\n",
    "\n",
    "from sklearn.model_selection import GridSearchCV\n",
    "from matplotlib.pyplot import figure\n",
    "\n",
    "if not sys.warnoptions:\n",
    "    import warnings\n",
    "    warnings.simplefilter(\"ignore\")"
   ]
  },
  {
   "cell_type": "markdown",
   "metadata": {},
   "source": [
    "# the first function takes as input parameters w, b of a linear classifier as well as a data point\n",
    "# x, and returns the label for that point: sign(w · x + b). The label is either +1 or −1.\n",
    "\n",
    "\n",
    "# • The second function takes as input an array of data points and an array of labels (where each\n",
    "# label is +1 or −1), and runs the Perceptron algorithm to learn a linear classifier w, b. The\n",
    "# algorithm should begin by randomly permuting the data points.# • The second function takes as input an array of data points and an array of labels (where each\n",
    "# label is +1 or −1), and runs the Perceptron algorithm to learn a linear classifier w, b. The\n",
    "# algorithm should begin by randomly permuting the data points."
   ]
  },
  {
   "cell_type": "code",
   "execution_count": 85,
   "metadata": {},
   "outputs": [],
   "source": [
    "def sign(x,w,b):\n",
    "    if np.dot(w,x)+b >0:\n",
    "        return 1 \n",
    "    else:\n",
    "        return -1"
   ]
  },
  {
   "cell_type": "code",
   "execution_count": 86,
   "metadata": {},
   "outputs": [],
   "source": [
    "\n",
    "# totally T epoches to iterate\n",
    "def perceptron(x,y,n_epoch):\n",
    "#2X0\n",
    "    w = np.zeros((x.shape[1],))\n",
    "    b = 0\n",
    "    count=0\n",
    "    y_reshape=y.reshape((100,1))\n",
    "    data=np.hstack((x,y_reshape))\n",
    "    np.random.shuffle(data)\n",
    "    train = data[:,0:2]\n",
    "    test = data[:,-1]\n",
    "    for t in range (n_epoch):                    \n",
    "    # totally m data points    \n",
    "        for i in range(train.shape[0]):\n",
    "            # misclassify data points                 \n",
    "            if sign(train[i],w,b)!= test[i]:    \n",
    "                w  = w + test[i] * train[i]\n",
    "                b = b + test[i]\n",
    "                count +=1\n",
    "                \n",
    "    return w,b, count"
   ]
  },
  {
   "cell_type": "code",
   "execution_count": 121,
   "metadata": {},
   "outputs": [
    {
     "data": {
      "text/plain": [
       "(2,)"
      ]
     },
     "execution_count": 121,
     "metadata": {},
     "output_type": "execute_result"
    }
   ],
   "source": [
    "w = np.zeros((x1.shape[1],))\n",
    "w.shape"
   ]
  },
  {
   "cell_type": "code",
   "execution_count": 126,
   "metadata": {},
   "outputs": [
    {
     "data": {
      "text/plain": [
       "-1"
      ]
     },
     "execution_count": 126,
     "metadata": {},
     "output_type": "execute_result"
    }
   ],
   "source": [
    "b=0\n",
    "x_test=x1[99]\n",
    "sign(x_test,w,b)"
   ]
  },
  {
   "cell_type": "markdown",
   "metadata": {},
   "source": [
    "## (b) Load in the Iris data set. You can do this by simply invoking:\n",
    "## The data has four features and three labels. Restrict it to features 1 and 3 (the second and fourth\n",
    "## columns, sepal width and petal width) and to labels 0,1. Recode label 0 as −1, since this is what\n",
    "## the Perceptron algorithm is expecting."
   ]
  },
  {
   "cell_type": "code",
   "execution_count": 87,
   "metadata": {},
   "outputs": [],
   "source": [
    "from sklearn import datasets\n",
    "iris = datasets.load_iris()\n",
    "x = iris.data\n",
    "y = iris.target\n"
   ]
  },
  {
   "cell_type": "code",
   "execution_count": 118,
   "metadata": {},
   "outputs": [
    {
     "data": {
      "text/plain": [
       "(100, 2)"
      ]
     },
     "execution_count": 118,
     "metadata": {},
     "output_type": "execute_result"
    }
   ],
   "source": [
    "x.shape\n",
    "x1= x[:,[1,3]]\n",
    "x1.shape\n",
    "x1=x1[y!=2]\n",
    "x1.shape"
   ]
  },
  {
   "cell_type": "code",
   "execution_count": 12,
   "metadata": {},
   "outputs": [
    {
     "data": {
      "text/plain": [
       "array([0, 0, 0, 0, 0, 0, 0, 0, 0, 0, 0, 0, 0, 0, 0, 0, 0, 0, 0, 0, 0, 0,\n",
       "       0, 0, 0, 0, 0, 0, 0, 0, 0, 0, 0, 0, 0, 0, 0, 0, 0, 0, 0, 0, 0, 0,\n",
       "       0, 0, 0, 0, 0, 0, 1, 1, 1, 1, 1, 1, 1, 1, 1, 1, 1, 1, 1, 1, 1, 1,\n",
       "       1, 1, 1, 1, 1, 1, 1, 1, 1, 1, 1, 1, 1, 1, 1, 1, 1, 1, 1, 1, 1, 1,\n",
       "       1, 1, 1, 1, 1, 1, 1, 1, 1, 1, 1, 1, 2, 2, 2, 2, 2, 2, 2, 2, 2, 2,\n",
       "       2, 2, 2, 2, 2, 2, 2, 2, 2, 2, 2, 2, 2, 2, 2, 2, 2, 2, 2, 2, 2, 2,\n",
       "       2, 2, 2, 2, 2, 2, 2, 2, 2, 2, 2, 2, 2, 2, 2, 2, 2, 2])"
      ]
     },
     "execution_count": 12,
     "metadata": {},
     "output_type": "execute_result"
    }
   ],
   "source": [
    "y.shape\n",
    "y\n"
   ]
  },
  {
   "cell_type": "code",
   "execution_count": 117,
   "metadata": {},
   "outputs": [
    {
     "name": "stdout",
     "output_type": "stream",
     "text": [
      "[-1 -1 -1 -1 -1 -1 -1 -1 -1 -1 -1 -1 -1 -1 -1 -1 -1 -1 -1 -1 -1 -1 -1 -1\n",
      " -1 -1 -1 -1 -1 -1 -1 -1 -1 -1 -1 -1 -1 -1 -1 -1 -1 -1 -1 -1 -1 -1 -1 -1\n",
      " -1 -1  1  1  1  1  1  1  1  1  1  1  1  1  1  1  1  1  1  1  1  1  1  1\n",
      "  1  1  1  1  1  1  1  1  1  1  1  1  1  1  1  1  1  1  1  1  1  1  1  1\n",
      "  1  1  1  1] (100,)\n"
     ]
    }
   ],
   "source": [
    "y1 = y[y!=2]\n",
    "y1.shape\n",
    "\n",
    "y1=np.asarray([-1 if i==0 else 1 for i in y1])\n",
    "print(y1,y1.shape)\n"
   ]
  },
  {
   "cell_type": "markdown",
   "metadata": {},
   "source": [
    "\n",
    "## c) Now run the Perceptron algorithm on the data. In your writeup, \n",
    "## show a plot with the data points (where the two labels have different colors) and the resulting decision boundary."
   ]
  },
  {
   "cell_type": "code",
   "execution_count": 91,
   "metadata": {},
   "outputs": [
    {
     "name": "stdout",
     "output_type": "stream",
     "text": [
      "[-0.4  1.3]\n",
      "0.0\n"
     ]
    },
    {
     "data": {
      "text/plain": [
       "2"
      ]
     },
     "execution_count": 91,
     "metadata": {},
     "output_type": "execute_result"
    }
   ],
   "source": [
    "w, b, count=perceptron(x1,y1,10)\n",
    "print(w)\n",
    "print(b)\n",
    "count"
   ]
  },
  {
   "cell_type": "code",
   "execution_count": 92,
   "metadata": {},
   "outputs": [
    {
     "name": "stdout",
     "output_type": "stream",
     "text": [
      "-0.3999999999999999\n",
      "1.3\n"
     ]
    }
   ],
   "source": [
    "w1=w[0]\n",
    "w2=w[1]\n",
    "print(w1)\n",
    "print(w2)"
   ]
  },
  {
   "cell_type": "code",
   "execution_count": 93,
   "metadata": {},
   "outputs": [
    {
     "data": {
      "image/png": "[encoded data removed]",
      "text/plain": [
       "<Figure size 432x288 with 1 Axes>"
      ]
     },
     "metadata": {
      "needs_background": "light"
     },
     "output_type": "display_data"
    }
   ],
   "source": [
    "# Calculate the intercept and gradient of the decision boundary.\n",
    "c = -b/w2\n",
    "m = -w1/w2\n",
    "\n",
    "# Plot the data and the classification with the decision boundary.\n",
    "xmin, xmax = 1, 5\n",
    "ymin, ymax = -1, 2.5\n",
    "xd = np.array([xmin, xmax])\n",
    "yd = m*xd + c\n",
    "plt.plot(xd, yd, 'k', lw=1, ls='--')\n",
    "plt.fill_between(xd, yd, ymin, color='tab:blue', alpha=0.2)\n",
    "plt.fill_between(xd, yd, ymax, color='tab:orange', alpha=0.2)\n",
    "\n",
    "plt.scatter(*x1[y1==-1].T, s=8, alpha=0.5)\n",
    "plt.scatter(*x1[y1==1].T, s=8, alpha=0.5)\n",
    "plt.xlim(xmin, xmax)\n",
    "plt.ylim(ymin, ymax)\n",
    "plt.ylabel(r'$x_2$')\n",
    "plt.xlabel(r'$x_1$')\n",
    "\n",
    "plt.show()"
   ]
  },
  {
   "cell_type": "code",
   "execution_count": null,
   "metadata": {},
   "outputs": [],
   "source": []
  },
  {
   "cell_type": "markdown",
   "metadata": {},
   "source": [
    "##  Now modify your code from part (a) to count the number of updates made by the Perceptron algorithm \n",
    "## while it is learning. Run the algorithm 20 times and keep track of the number of updates needed each time. In your writeup, include a histogram of these values.\n"
   ]
  },
  {
   "cell_type": "code",
   "execution_count": 94,
   "metadata": {},
   "outputs": [],
   "source": [
    "def track_count(x,y,n_epoch):\n",
    "#2X0\n",
    "    w = np.zeros((x.shape[1],))\n",
    "    b = 0\n",
    "    count=0\n",
    "    y_reshape=y.reshape((100,1))\n",
    "    data=np.hstack((x,y_reshape))\n",
    "    np.random.shuffle(data)\n",
    "    train = data[:,0:2]\n",
    "    test = data[:,-1]\n",
    "    for t in range (n_epoch):                    \n",
    "    # totally m data points    \n",
    "        for i in range(train.shape[0]):\n",
    "            # misclassify data points                 \n",
    "            if sign(train[i],w,b)!= test[i]:    \n",
    "                w  = w + test[i] * train[i]\n",
    "                b = b + test[i]\n",
    "                count +=1\n",
    "                \n",
    "    return count"
   ]
  },
  {
   "cell_type": "code",
   "execution_count": 95,
   "metadata": {},
   "outputs": [
    {
     "data": {
      "text/plain": [
       "13"
      ]
     },
     "execution_count": 95,
     "metadata": {},
     "output_type": "execute_result"
    }
   ],
   "source": [
    "count=track_count(x1,y1,10)\n",
    "count"
   ]
  },
  {
   "cell_type": "code",
   "execution_count": 96,
   "metadata": {},
   "outputs": [],
   "source": [
    "def repeat():\n",
    "    listcount =[]\n",
    "    for i in range(20):\n",
    "        counter = track_count(x1,y1,10)\n",
    "        listcount.append(counter)\n",
    "    return listcount"
   ]
  },
  {
   "cell_type": "code",
   "execution_count": 97,
   "metadata": {},
   "outputs": [
    {
     "data": {
      "text/plain": [
       "[10, 17, 2, 23, 15, 14, 17, 21, 9, 9, 17, 16, 13, 4, 2, 13, 11, 13, 9, 9]"
      ]
     },
     "execution_count": 97,
     "metadata": {},
     "output_type": "execute_result"
    }
   ],
   "source": [
    "listcount = repeat()\n",
    "listcount"
   ]
  },
  {
   "cell_type": "code",
   "execution_count": 98,
   "metadata": {},
   "outputs": [
    {
     "data": {
      "image/png": "[encoded data removed]",
      "text/plain": [
       "<Figure size 432x288 with 1 Axes>"
      ]
     },
     "metadata": {
      "needs_background": "light"
     },
     "output_type": "display_data"
    }
   ],
   "source": [
    "#histogram\n",
    "##?\n",
    "#np.histogram(listcount, bins=[0, 1, 2, 3])\n",
    "n_bins =20\n",
    "plt.hist(listcount, bins=n_bins) \n",
    "plt.show()"
   ]
  },
  {
   "cell_type": "markdown",
   "metadata": {},
   "source": [
    "## #2 Support vector machine. As you did with the Perceptron, use the Iris data set, but this time use features 0 and 2, and labels 1,2.\n",
    "## (a) Is this data linearly separable?"
   ]
  },
  {
   "cell_type": "markdown",
   "metadata": {},
   "source": [
    "# --no, not converge, so should not be linearly separable."
   ]
  },
  {
   "cell_type": "code",
   "execution_count": 99,
   "metadata": {},
   "outputs": [
    {
     "data": {
      "text/plain": [
       "(100, 2)"
      ]
     },
     "execution_count": 99,
     "metadata": {},
     "output_type": "execute_result"
    }
   ],
   "source": [
    "x2=x[:,[0,2]]\n",
    "x2=x2[y!=0]\n",
    "x2.shape\n"
   ]
  },
  {
   "cell_type": "code",
   "execution_count": 100,
   "metadata": {},
   "outputs": [
    {
     "data": {
      "text/plain": [
       "array([[1],\n",
       "       [1],\n",
       "       [1],\n",
       "       [1],\n",
       "       [1],\n",
       "       [1],\n",
       "       [1],\n",
       "       [1],\n",
       "       [1],\n",
       "       [1],\n",
       "       [1],\n",
       "       [1],\n",
       "       [1],\n",
       "       [1],\n",
       "       [1],\n",
       "       [1],\n",
       "       [1],\n",
       "       [1],\n",
       "       [1],\n",
       "       [1],\n",
       "       [1],\n",
       "       [1],\n",
       "       [1],\n",
       "       [1],\n",
       "       [1],\n",
       "       [1],\n",
       "       [1],\n",
       "       [1],\n",
       "       [1],\n",
       "       [1],\n",
       "       [1],\n",
       "       [1],\n",
       "       [1],\n",
       "       [1],\n",
       "       [1],\n",
       "       [1],\n",
       "       [1],\n",
       "       [1],\n",
       "       [1],\n",
       "       [1],\n",
       "       [1],\n",
       "       [1],\n",
       "       [1],\n",
       "       [1],\n",
       "       [1],\n",
       "       [1],\n",
       "       [1],\n",
       "       [1],\n",
       "       [1],\n",
       "       [1],\n",
       "       [2],\n",
       "       [2],\n",
       "       [2],\n",
       "       [2],\n",
       "       [2],\n",
       "       [2],\n",
       "       [2],\n",
       "       [2],\n",
       "       [2],\n",
       "       [2],\n",
       "       [2],\n",
       "       [2],\n",
       "       [2],\n",
       "       [2],\n",
       "       [2],\n",
       "       [2],\n",
       "       [2],\n",
       "       [2],\n",
       "       [2],\n",
       "       [2],\n",
       "       [2],\n",
       "       [2],\n",
       "       [2],\n",
       "       [2],\n",
       "       [2],\n",
       "       [2],\n",
       "       [2],\n",
       "       [2],\n",
       "       [2],\n",
       "       [2],\n",
       "       [2],\n",
       "       [2],\n",
       "       [2],\n",
       "       [2],\n",
       "       [2],\n",
       "       [2],\n",
       "       [2],\n",
       "       [2],\n",
       "       [2],\n",
       "       [2],\n",
       "       [2],\n",
       "       [2],\n",
       "       [2],\n",
       "       [2],\n",
       "       [2],\n",
       "       [2],\n",
       "       [2],\n",
       "       [2],\n",
       "       [2],\n",
       "       [2]])"
      ]
     },
     "execution_count": 100,
     "metadata": {},
     "output_type": "execute_result"
    }
   ],
   "source": [
    "y2 = y[y!=0]\n",
    "y2=np.asarray(y2)\n",
    "y2.reshape((100,1))"
   ]
  },
  {
   "cell_type": "markdown",
   "metadata": {},
   "source": [
    "## b) Use sklearn.svm.SVC to fit a support vector machine classifier to the data. You will need to invoke the option kernel=’linear’. \n",
    "## Try at least 10 different values of the slack parameter C. \n",
    "## In your writeup, include a table that shows these values of C and for each of them gives the training error and the number of support vectors."
   ]
  },
  {
   "cell_type": "code",
   "execution_count": 101,
   "metadata": {},
   "outputs": [],
   "source": [
    "import numpy as np\n",
    "from sklearn.pipeline import make_pipeline\n",
    "from sklearn.preprocessing import StandardScaler\n",
    "from sklearn.svm import SVC\n",
    "from sklearn import svm\n",
    "from sklearn.model_selection import GridSearchCV\n",
    "from sklearn.metrics import classification_report\n",
    "\n"
   ]
  },
  {
   "cell_type": "code",
   "execution_count": 102,
   "metadata": {},
   "outputs": [],
   "source": [
    "X_train, X_test, y_train, y_test = train_test_split(x2, y2, test_size=0.2, random_state=42)"
   ]
  },
  {
   "cell_type": "code",
   "execution_count": 103,
   "metadata": {},
   "outputs": [
    {
     "name": "stdout",
     "output_type": "stream",
     "text": [
      "0.001 47.5 76\n",
      "0.01 9.999999999999998 76\n",
      "0.1 6.25 48\n",
      "1 2.500000000000002 24\n",
      "10 3.749999999999998 11\n",
      "20 2.500000000000002 9\n",
      "30 2.500000000000002 9\n",
      "100 3.749999999999998 7\n",
      "1000 2.500000000000002 6\n",
      "10000 2.500000000000002 5\n"
     ]
    }
   ],
   "source": [
    "for C in [0.001, 0.01, 0.1, 1,10,20, 30,100,1000,10000]:\n",
    "    clf = svm.SVC(kernel='linear', C=C)\n",
    "    score=clf.fit(X_train,y_train).score(X_train, y_train)\n",
    "    error=(1-score)*100.00\n",
    "    print (C, error, len(clf.support_vectors_))"
   ]
  },
  {
   "cell_type": "markdown",
   "metadata": {},
   "source": [
    "## (c) Which value of C do you think is best? For this value, include a plot of the data points and the linear decision boundary.\n",
    "## I think C=1 is the best, because C=1 give the lowest error\n"
   ]
  },
  {
   "cell_type": "code",
   "execution_count": 107,
   "metadata": {},
   "outputs": [
    {
     "data": {
      "text/plain": [
       "2.500000000000002"
      ]
     },
     "execution_count": 107,
     "metadata": {},
     "output_type": "execute_result"
    }
   ],
   "source": [
    "clf_2 = svm.SVC(kernel='linear', C=1)\n",
    "score_2=clf_2.fit(X_train,y_train).score(X_train, y_train)\n",
    "error_2=(1-score_2)*100.00\n",
    "error_2"
   ]
  },
  {
   "cell_type": "code",
   "execution_count": 108,
   "metadata": {},
   "outputs": [
    {
     "data": {
      "image/png": "[encoded data removed]",
      "text/plain": [
       "<Figure size 432x288 with 1 Axes>"
      ]
     },
     "metadata": {
      "needs_background": "light"
     },
     "output_type": "display_data"
    }
   ],
   "source": [
    "weights = clf_2.coef_[0]\n",
    "bias =clf_2.intercept_[0]\n",
    "w1 = weights[0]\n",
    "w2 = weights[1]\n",
    "b=bias\n",
    "##plot\n",
    " # Calculate the intercept and gradient of the decision boundary.\n",
    "c = -b/w2\n",
    "m = -w1/w2\n",
    "\n",
    "# Plot the data and the classification with the decision boundary.\n",
    "xmin, xmax = 4, 9\n",
    "ymin, ymax = 2, 8\n",
    "xd = np.array([xmin, xmax])\n",
    "yd = m*xd + c\n",
    "plt.plot(xd, yd, 'k', lw=1, ls='--')\n",
    "plt.fill_between(xd, yd, ymin, color='tab:blue', alpha=0.2)\n",
    "plt.fill_between(xd, yd, ymax, color='tab:orange', alpha=0.2)\n",
    "\n",
    "plt.scatter(*X_train[y_train==1].T, s=8, alpha=0.5)\n",
    "plt.scatter(*X_train[y_train==2].T, s=8, alpha=0.5)\n",
    "plt.xlim(xmin, xmax)\n",
    "plt.ylim(ymin, ymax)\n",
    "plt.ylabel(r'$x_2$')\n",
    "plt.xlabel(r'$x_1$')\n",
    "\n",
    "plt.show()"
   ]
  },
  {
   "cell_type": "markdown",
   "metadata": {},
   "source": [
    "## 3. Multiclass Perceptron. Implement the multiclass Perceptron algorithm from class.\n",
    "## (a)  Load in the data set data0.txt. This has 2-d data in four classes (coded as 0,1,2,3). Each row consists of three numbers: the two coordinates of the data points and the label."
   ]
  },
  {
   "cell_type": "code",
   "execution_count": 30,
   "metadata": {},
   "outputs": [],
   "source": [
    "data =np.loadtxt('data0.txt')"
   ]
  },
  {
   "cell_type": "code",
   "execution_count": 109,
   "metadata": {},
   "outputs": [
    {
     "data": {
      "text/plain": [
       "(48, 3)"
      ]
     },
     "execution_count": 109,
     "metadata": {},
     "output_type": "execute_result"
    }
   ],
   "source": [
    "data.shape"
   ]
  },
  {
   "cell_type": "markdown",
   "metadata": {},
   "source": [
    "## Run the multiclass Perceptron algorithm to learn a classifier. \n",
    "## Create a plot that shows all the data points (with different colors and shapes for different labels) as well as the decision regions."
   ]
  },
  {
   "cell_type": "code",
   "execution_count": 32,
   "metadata": {},
   "outputs": [
    {
     "data": {
      "text/plain": [
       "48"
      ]
     },
     "execution_count": 32,
     "metadata": {},
     "output_type": "execute_result"
    }
   ],
   "source": [
    "data.shape[0]"
   ]
  },
  {
   "cell_type": "code",
   "execution_count": 33,
   "metadata": {},
   "outputs": [
    {
     "name": "stdout",
     "output_type": "stream",
     "text": [
      "48 2\n"
     ]
    }
   ],
   "source": [
    "x3 = data[:,:2]\n",
    "print(x3.shape[0],x3.shape[1])"
   ]
  },
  {
   "cell_type": "code",
   "execution_count": 34,
   "metadata": {},
   "outputs": [
    {
     "name": "stdout",
     "output_type": "stream",
     "text": [
      "(48,)\n"
     ]
    },
    {
     "data": {
      "text/plain": [
       "array([0, 0, 0, 0, 0, 0, 0, 0, 0, 0, 0, 0, 1, 1, 1, 1, 1, 1, 1, 1, 1, 1,\n",
       "       1, 1, 1, 1, 1, 2, 2, 2, 2, 2, 2, 2, 2, 2, 3, 3, 3, 3, 3, 3, 3, 3,\n",
       "       3, 3, 3, 3])"
      ]
     },
     "execution_count": 34,
     "metadata": {},
     "output_type": "execute_result"
    }
   ],
   "source": [
    "y3 = (data[:, -1]).astype(int)\n",
    "print(y3.shape)\n",
    "y3"
   ]
  },
  {
   "cell_type": "code",
   "execution_count": null,
   "metadata": {},
   "outputs": [],
   "source": [
    "#w is number of class * number of feature\n",
    "w=np.zeros((len(np.unique(y3)),x3.shape[1]))\n",
    "# b is number of class\n",
    "b=np.zeros(len(np.unique(y3),))\n",
    "print(w.shape,w, b.shape,b)"
   ]
  },
  {
   "cell_type": "code",
   "execution_count": 37,
   "metadata": {},
   "outputs": [],
   "source": [
    "# totally T epoches to iterate\n",
    "def multi_perceptron(x,y,n_epoch):\n",
    "\n",
    "    w = np.zeros((len(np.unique(y)),x.shape[1]))\n",
    "    #number of class X number of features 4X2\n",
    "    b = np.zeros(len(np.unique(y),))\n",
    "    #number of class 4\n",
    "    count=0\n",
    "    for t in range (n_epoch):\n",
    "        shuffled_indices = np.random.permutation(len(x))\n",
    "        x_shuffled = x[shuffled_indices]\n",
    "        y_shuffled = y[shuffled_indices]\n",
    "        #print(x_shuffled.shape, y_shuffled.shape)\n",
    "    # totally m data points    \n",
    "        for i in range(x_shuffled.shape[0]):\n",
    "            y_hat = np.argmax(np.dot(w,x_shuffled[i]) + b)\n",
    "            # misclassify data points                 \n",
    "            if y_hat != y_shuffled[i]:    \n",
    "                w[y_shuffled[i]]  = w[y_shuffled[i]] + x_shuffled[i]\n",
    "                b[y_shuffled[i]] = b[y_shuffled[i]] + 1\n",
    "                w[y_hat] = w[y_hat] - x_shuffled[i]\n",
    "                b[y_hat] = b[y_hat] - 1\n",
    "                count +=1\n",
    "    return w,b\n",
    "#y_pred,predict,error,count\n",
    "    #return error"
   ]
  },
  {
   "cell_type": "code",
   "execution_count": 48,
   "metadata": {},
   "outputs": [],
   "source": [
    "def multiPerceptron_predict(x,y,w,b):\n",
    "    predict = np.argmax((np.dot(x,w.T) + b), axis = 1)\n",
    "    error = 1 - np.mean(predict == y)\n",
    "    return predict, error"
   ]
  },
  {
   "cell_type": "code",
   "execution_count": 39,
   "metadata": {},
   "outputs": [
    {
     "data": {
      "text/plain": [
       "(array([[  9.,  -6.],\n",
       "        [-52.,  38.],\n",
       "        [ 33., -38.],\n",
       "        [ 10.,   6.]]),\n",
       " array([ 62., -13., -13., -36.]))"
      ]
     },
     "execution_count": 39,
     "metadata": {},
     "output_type": "execute_result"
    }
   ],
   "source": [
    "w,b = multi_perceptron(x3,y3,100)\n",
    "w,b"
   ]
  },
  {
   "cell_type": "code",
   "execution_count": 49,
   "metadata": {},
   "outputs": [
    {
     "data": {
      "text/plain": [
       "(array([0, 0, 0, 0, 0, 0, 0, 0, 0, 0, 0, 0, 1, 1, 1, 1, 1, 1, 1, 1, 1, 1,\n",
       "        1, 1, 1, 1, 1, 2, 2, 2, 2, 2, 2, 2, 2, 2, 3, 3, 3, 3, 3, 3, 3, 3,\n",
       "        3, 3, 3, 3]),\n",
       " 0.0)"
      ]
     },
     "execution_count": 49,
     "metadata": {},
     "output_type": "execute_result"
    }
   ],
   "source": [
    "predict, error=multiPerceptron_predict(x3,y3,w,b)\n",
    "predict, error"
   ]
  },
  {
   "cell_type": "code",
   "execution_count": 141,
   "metadata": {},
   "outputs": [
    {
     "data": {
      "image/png": "[encoded data removed]",
      "text/plain": [
       "<Figure size 576x576 with 1 Axes>"
      ]
     },
     "metadata": {
      "needs_background": "light"
     },
     "output_type": "display_data"
    }
   ],
   "source": [
    "# avoid this ugly slicing by using a two-dim dataset\n",
    "X = x3\n",
    "y = y3\n",
    "colors = \"bryg\"\n",
    "markers = [\"*\",\"s\",\"p\",\"v\"]\n",
    "figure(figsize = (8,8))\n",
    "\n",
    "\n",
    "h = 0.02  # step size in the mesh\n",
    "\n",
    "w,b = multi_perceptron(X,y,100)\n",
    "predict, error=multiPerceptron_predict(X,y,w,b)\n",
    "\n",
    "# create a mesh to plot in\n",
    "x_min, x_max = X[:, 0].min() - 1, X[:, 0].max() + 1\n",
    "y_min, y_max = X[:, 1].min() - 1, X[:, 1].max() + 1\n",
    "xx, yy = np.meshgrid(np.arange(x_min, x_max, h),\n",
    "                     np.arange(y_min, y_max, h))\n",
    "\n",
    "# Plot the decision boundary. For that, we will assign a color to each\n",
    "# point in the mesh [x_min, x_max]x[y_min, y_max].\n",
    "Z, error=multiPerceptron_predict(np.c_[xx.ravel(), yy.ravel()],y,w,b)\n",
    "\n",
    "\n",
    "# Put the result into a color plot\n",
    "Z = Z.reshape(xx.shape)\n",
    "cs = plt.contourf(xx, yy, Z, cmap=plt.cm.Pastel2,alpha=0.5)\n",
    "#plt.axis('tight')\n",
    "\n",
    "# Plot also the training points\n",
    "for i, color, marker in zip(np.unique(y), colors, markers):\n",
    "    idx = np.where(y == i)\n",
    "    plt.scatter(X[idx, 0], X[idx, 1], c=color, label=i,\n",
    "                cmap=plt.cm.Pastel2, edgecolor='black', s=80, marker=marker,alpha=0.5)\n",
    "plt.title(\"Decision surface of multi-class\")\n",
    "plt.axis('tight')\n",
    "\n",
    "# Plot the three one-against-all classifiers\n",
    "xmin, xmax = plt.xlim()\n",
    "ymin, ymax = plt.ylim()\n",
    "coef = w\n",
    "intercept = b\n",
    "\n",
    "\n",
    "plt.legend(loc='upper right')\n",
    "plt.show()"
   ]
  },
  {
   "cell_type": "code",
   "execution_count": 143,
   "metadata": {},
   "outputs": [
    {
     "data": {
      "text/plain": [
       "(550, 550)"
      ]
     },
     "execution_count": 143,
     "metadata": {},
     "output_type": "execute_result"
    }
   ],
   "source": [
    "Z.shape"
   ]
  },
  {
   "cell_type": "markdown",
   "metadata": {},
   "source": [
    "## 4. Multiclass SVM. In this problem, we’ll use support vector machines to classify the MNIST data set of handwritten digits.\n",
    "## (a) Load in the MNIST data: a training set of 60,000 points and a separate test set of 10,000 points.\n",
    "## (b) Learn a linear SVM classifier using sklearn.svm.LinearSVC. You will need to see loss=’hinge’.\n",
    "## How can you choose a suitable value of C? Explain your methodology.\n",
    "## (c) Report the final test error. Is this data linearly separable?"
   ]
  },
  {
   "cell_type": "markdown",
   "metadata": {},
   "source": [
    "## (a) Load in the MNIST data: a training set of 60,000 points and a separate test set of 10,000 points.\n"
   ]
  },
  {
   "cell_type": "code",
   "execution_count": 72,
   "metadata": {},
   "outputs": [],
   "source": [
    "%matplotlib inline\n",
    "import matplotlib.pyplot as plt\n",
    "import time\n",
    "import gzip\n",
    "import sys\n",
    "import os\n",
    "import copy\n",
    "import numpy as np\n",
    "import pandas as pd\n",
    "import pickle\n",
    "import string\n",
    "import operator\n",
    "import bz2\n",
    "import random\n",
    "from scipy import stats\n",
    "from scipy.cluster.hierarchy import dendrogram, linkage\n",
    "from sklearn.cluster import KMeans\n",
    "from sklearn.neighbors import BallTree\n",
    "from sklearn import metrics\n",
    "from sklearn.preprocessing import scale\n",
    "from pylab import rcParams\n",
    "from struct import unpack\n",
    "from scipy.stats import multivariate_normal\n",
    "\n",
    "if sys.version_info[0] == 2:\n",
    "    from urllib import urlretrieve\n",
    "else:\n",
    "    from urllib.request import urlretrieve\n",
    "\n",
    "if not sys.warnoptions:\n",
    "    import warnings\n",
    "    warnings.simplefilter(\"ignore\")\n",
    "    \n",
    "import numpy as np\n",
    "import pandas as pd\n",
    "import scipy.stats as stats\n",
    "import scipy.cluster as cluster\n",
    "import matplotlib.pyplot as plt\n",
    "\n",
    "from struct import unpack\n",
    "from sklearn.cluster import KMeans\n",
    "from sklearn.model_selection import train_test_split\n",
    "\n",
    "np.random.seed(12345)"
   ]
  },
  {
   "cell_type": "code",
   "execution_count": 73,
   "metadata": {},
   "outputs": [],
   "source": [
    "from struct import unpack\n",
    "import matplotlib.pylab as plt \n",
    "\n",
    "def loadmnist(imagefile, labelfile):\n",
    "\n",
    "    # Open the images with gzip in read binary mode\n",
    "    images = open(imagefile, 'rb')\n",
    "    labels = open(labelfile, 'rb')\n",
    "\n",
    "    # Get metadata for images\n",
    "    images.read(4)  # skip the magic_number\n",
    "    number_of_images = images.read(4)\n",
    "    number_of_images = unpack('>I', number_of_images)[0]\n",
    "    rows = images.read(4)\n",
    "    rows = unpack('>I', rows)[0]\n",
    "    cols = images.read(4)\n",
    "    cols = unpack('>I', cols)[0]\n",
    "\n",
    "    # Get metadata for labels\n",
    "    labels.read(4)\n",
    "    N = labels.read(4)\n",
    "    N = unpack('>I', N)[0]\n",
    "\n",
    "    # Get data\n",
    "    x = np.zeros((N, rows*cols), dtype=np.uint8)  # Initialize numpy array\n",
    "    y = np.zeros(N, dtype=np.uint8)  # Initialize numpy array\n",
    "    for i in range(N):\n",
    "        for j in range(rows*cols):\n",
    "            tmp_pixel = images.read(1)  # Just a single byte\n",
    "            tmp_pixel = unpack('>B', tmp_pixel)[0]\n",
    "            x[i][j] = tmp_pixel\n",
    "        tmp_label = labels.read(1)\n",
    "        y[i] = unpack('>B', tmp_label)[0]\n",
    "\n",
    "    images.close()\n",
    "    labels.close()\n",
    "    return (x, y)\n",
    "\n",
    "def displaychar(image):\n",
    "    plt.imshow(np.reshape(image, (28,28)), cmap=plt.cm.gray)\n",
    "    plt.axis('off')\n",
    "    plt.show()"
   ]
  },
  {
   "cell_type": "code",
   "execution_count": 74,
   "metadata": {},
   "outputs": [],
   "source": [
    "if sys.version_info[0]==2:\n",
    "    from urllib import urlretrieve\n",
    "else:\n",
    "    from urllib.request import urlretrieve\n",
    "\n",
    "def download(filename, source = 'http://yann.lecun.com/exdb/mnist/'):\n",
    "    print('Downloading %s' % filename)\n",
    "    urlretrieve(source + filename, filename)\n",
    "\n",
    "def load_mnist_images(filename):\n",
    "    if not os.path.exists(filename):\n",
    "        download(filename)\n",
    "    # Read the inputs in Yann LeCun's binary format.\n",
    "    with gzip.open(filename, 'rb') as f:\n",
    "        data = np.frombuffer(f.read(),np.uint8,offset=16)\n",
    "    data = data.reshape(-1,784)\n",
    "    return data / np.float32(256)\n",
    "\n",
    "def load_mnist_labels(filename):\n",
    "    if not os.path.exists(filename):\n",
    "        download(filename)\n",
    "    with gzip.open(filename, 'rb') as f:\n",
    "        data = np.frombuffer(f.read(),np.uint8,offset=8)\n",
    "    return data\n",
    "\n",
    "%matplotlib inline\n",
    "import matplotlib.pyplot as plt\n",
    "import time\n",
    "from sklearn.neighbors import BallTree\n",
    "\n",
    "## Load the training set\n",
    "train_data = load_mnist_images('train-images-idx3-ubyte.gz')\n",
    "train_labels = load_mnist_labels('train-labels-idx1-ubyte.gz')\n",
    "\n",
    "## Load the test set\n",
    "test_data = load_mnist_images('t10k-images-idx3-ubyte.gz')\n",
    "test_labels = load_mnist_labels('t10k-labels-idx1-ubyte.gz')\n",
    "\n",
    "#x,y = loadmnist('train-images-idx3-ubyte.gz', 'train-labels-idx1-ubyte.gz')"
   ]
  },
  {
   "cell_type": "code",
   "execution_count": 75,
   "metadata": {},
   "outputs": [
    {
     "name": "stdout",
     "output_type": "stream",
     "text": [
      "(60000, 784)\n",
      "(60000,)\n",
      "(10000, 784)\n",
      "(10000,)\n"
     ]
    }
   ],
   "source": [
    "print(train_data.shape)\n",
    "print(train_labels.shape)\n",
    "print(test_data.shape)\n",
    "print(test_labels.shape)"
   ]
  },
  {
   "cell_type": "markdown",
   "metadata": {},
   "source": [
    "## (b) Learn a linear SVM classifier using sklearn.svm.LinearSVC. You will need to see loss=’hinge’.\n",
    "## How can you choose a suitable value of C? Explain your methodology.\n",
    "# --if data is more spreated out, use large C, if more over lapping, use small c\n",
    "# --In general, having few training instances and many attributes make it easier to make a linear separation of the data. \n",
    "# --Also that fact that you are evaluating on your training data and not new unseen data makes separation easier."
   ]
  },
  {
   "cell_type": "code",
   "execution_count": 144,
   "metadata": {},
   "outputs": [],
   "source": [
    "# defining parameter range\n",
    "c_list = {'C': [0.01, 0.1, 1, 10, 100, 1000]}   \n",
    "\n",
    "lsvc = LinearSVC(loss='hinge',\n",
    "      multi_class='ovr', penalty='l2', random_state=None, tol=0.0001)\n",
    "grid = GridSearchCV(lsvc, c_list)\n",
    "score4=grid.fit(train_data,train_labels)\n",
    "    "
   ]
  },
  {
   "cell_type": "code",
   "execution_count": 145,
   "metadata": {},
   "outputs": [
    {
     "name": "stdout",
     "output_type": "stream",
     "text": [
      "LinearSVC(C=1, loss='hinge')\n"
     ]
    },
    {
     "data": {
      "text/plain": [
       "0.9296333333333333"
      ]
     },
     "execution_count": 145,
     "metadata": {},
     "output_type": "execute_result"
    }
   ],
   "source": [
    "print (grid.best_estimator_)\n",
    "grid.score(train_data,train_labels)\n"
   ]
  },
  {
   "cell_type": "markdown",
   "metadata": {},
   "source": [
    "## (c) Report the final test error. Is this data linearly separable?"
   ]
  },
  {
   "cell_type": "code",
   "execution_count": 146,
   "metadata": {},
   "outputs": [
    {
     "data": {
      "text/plain": [
       "0.07820000000000005"
      ]
     },
     "execution_count": 146,
     "metadata": {},
     "output_type": "execute_result"
    }
   ],
   "source": [
    "lsvc = LinearSVC(C=1, loss='hinge',\n",
    "      multi_class='ovr', penalty='l2', random_state=None, tol=0.0001)\n",
    "lsvc.fit(train_data,train_labels)\n",
    "error_score = 1-grid.score(test_data, test_labels)\n",
    "error_score"
   ]
  },
  {
   "cell_type": "code",
   "execution_count": null,
   "metadata": {},
   "outputs": [],
   "source": []
  },
  {
   "cell_type": "markdown",
   "metadata": {},
   "source": []
  },
  {
   "cell_type": "code",
   "execution_count": null,
   "metadata": {},
   "outputs": [],
   "source": []
  }
 ],
 "metadata": {
  "kernelspec": {
   "display_name": "Python 3",
   "language": "python",
   "name": "python3"
  },
  "language_info": {
   "codemirror_mode": {
    "name": "ipython",
    "version": 3
   },
   "file_extension": ".py",
   "mimetype": "text/x-python",
   "name": "python",
   "nbconvert_exporter": "python",
   "pygments_lexer": "ipython3",
   "version": "3.8.2"
  }
 },
 "nbformat": 4,
 "nbformat_minor": 4
}
