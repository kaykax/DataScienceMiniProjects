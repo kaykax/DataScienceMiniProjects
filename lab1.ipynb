{
 "cells": [
  {
   "cell_type": "code",
   "execution_count": 1,
   "metadata": {},
   "outputs": [],
   "source": [
    "import matplotlib.pyplot as plt  \n",
    "from sklearn.metrics import confusion_matrix\n",
    "import pandas as pd\n",
    "import numpy as np\n",
    "import os \n",
    "import sklearn\n",
    "from sklearn.model_selection import LeaveOneOut\n",
    "from sklearn.neighbors import KNeighborsClassifier\n"
   ]
  },
  {
   "cell_type": "markdown",
   "metadata": {},
   "source": [
    "## 1.1 (a) Use leave-one-out cross-validation (LOOCV) to estimate the accuracy of the classifier and also to estimate the 3 × 3 confusion matrix."
   ]
  },
  {
   "cell_type": "code",
   "execution_count": 19,
   "metadata": {},
   "outputs": [],
   "source": [
    "data = np.loadtxt('wine.data',delimiter=',')"
   ]
  },
  {
   "cell_type": "code",
   "execution_count": 19,
   "metadata": {},
   "outputs": [],
   "source": [
    "data = np.loadtxt('wine.data',delimiter=',')"
   ]
  },
  {
   "cell_type": "code",
   "execution_count": 20,
   "metadata": {},
   "outputs": [
    {
     "data": {
      "text/plain": [
       "(178, 14)"
      ]
     },
     "execution_count": 20,
     "metadata": {},
     "output_type": "execute_result"
    }
   ],
   "source": [
    "data.shape"
   ]
  },
  {
   "cell_type": "code",
   "execution_count": 21,
   "metadata": {},
   "outputs": [],
   "source": [
    "x=data[:,1:14]\n",
    "y=data[:,:1]"
   ]
  },
  {
   "cell_type": "code",
   "execution_count": 22,
   "metadata": {},
   "outputs": [
    {
     "data": {
      "text/plain": [
       "(178, 13)"
      ]
     },
     "execution_count": 22,
     "metadata": {},
     "output_type": "execute_result"
    }
   ],
   "source": [
    "x.shape\n"
   ]
  },
  {
   "cell_type": "code",
   "execution_count": 23,
   "metadata": {},
   "outputs": [
    {
     "data": {
      "text/plain": [
       "(178, 1)"
      ]
     },
     "execution_count": 23,
     "metadata": {},
     "output_type": "execute_result"
    }
   ],
   "source": [
    "y.shape"
   ]
  },
  {
   "cell_type": "code",
   "execution_count": 7,
   "metadata": {},
   "outputs": [
    {
     "data": {
      "text/plain": [
       "178"
      ]
     },
     "execution_count": 7,
     "metadata": {},
     "output_type": "execute_result"
    }
   ],
   "source": [
    "loo = LeaveOneOut()\n",
    "loo.get_n_splits(x)"
   ]
  },
  {
   "cell_type": "code",
   "execution_count": 8,
   "metadata": {},
   "outputs": [],
   "source": [
    "def squared_dist(x,y):\n",
    "    return np.sum(np.square(x-y)) \n",
    "## Takes a vector x and returns the index of its nearest neighbor in train_data\n",
    "def find_NN(x,train_data,train_labels):\n",
    "    # Compute distances from x to every row in train_data\n",
    "    distances = [squared_dist(x,train_data[i,]) for i in range(len(train_labels))]\n",
    "    # Get the index of the smallest distance\n",
    "    return train_labels[np.argmin(distances)]"
   ]
  },
  {
   "cell_type": "code",
   "execution_count": 9,
   "metadata": {},
   "outputs": [
    {
     "name": "stdout",
     "output_type": "stream",
     "text": [
      "0.7696629213483146\n"
     ]
    }
   ],
   "source": [
    "postive = []\n",
    "confumatrix= []\n",
    "for train_index, test_index in loo.split(x):\n",
    "    #print(\"TRAIN:\", train_index, \"TEST:\", test_index)\n",
    "    x_train, x_test = x[train_index], x[test_index]\n",
    "    y_train, y_test = y[train_index], y[test_index]\n",
    "    y_pred = find_NN(x_test,x_train,y_train)\n",
    "    confumatrix.append(y_pred)\n",
    "    if y_test == y_pred:\n",
    "        postive.append(y_pred)\n",
    "#print (postive/y.shape[0])\n",
    "print(len(postive)/y.shape[0])\n",
    "    # print(x_train, x_test, y_train, y_test)"
   ]
  },
  {
   "cell_type": "markdown",
   "metadata": {},
   "source": [
    "## confustion matrix 3*3\n",
    "\n",
    "\n"
   ]
  },
  {
   "cell_type": "code",
   "execution_count": 10,
   "metadata": {},
   "outputs": [
    {
     "name": "stdout",
     "output_type": "stream",
     "text": [
      "[[52  5  3]\n",
      " [ 3 54 14]\n",
      " [ 4 12 31]]\n"
     ]
    }
   ],
   "source": [
    "print(confusion_matrix(confumatrix, y))"
   ]
  },
  {
   "cell_type": "markdown",
   "metadata": {},
   "source": [
    "## 1.1(b) Estimate the accuracy of the 1-NN classifier using k-fold cross-validation using 20 different choices of k that are fairly well spread out across the range 2 to 100. Plot these estimates: put k on the horizontal axis and accuracy estimate on the vertical axis."
   ]
  },
  {
   "cell_type": "code",
   "execution_count": 11,
   "metadata": {},
   "outputs": [],
   "source": [
    "from sklearn.model_selection import KFold\n",
    "from sklearn import datasets, linear_model\n",
    "from sklearn.model_selection import cross_val_score"
   ]
  },
  {
   "cell_type": "code",
   "execution_count": 12,
   "metadata": {},
   "outputs": [],
   "source": [
    "knn_1 = KNeighborsClassifier(n_neighbors = 1)"
   ]
  },
  {
   "cell_type": "code",
   "execution_count": 13,
   "metadata": {},
   "outputs": [
    {
     "data": {
      "text/plain": [
       "(178,)"
      ]
     },
     "execution_count": 13,
     "metadata": {},
     "output_type": "execute_result"
    }
   ],
   "source": [
    "y_labels = y.ravel()\n",
    "y_labels\n",
    "x.shape\n",
    "y_labels.shape"
   ]
  },
  {
   "cell_type": "code",
   "execution_count": 14,
   "metadata": {},
   "outputs": [],
   "source": [
    "kfold_list = [2,6,8,10,15,20,23,25,26,35,40,43,48,50,58,66,75,85,95,100]\n",
    "accuracy = {}\n",
    "for i in kfold_list:\n",
    "    kf = KFold(n_splits=i)\n",
    "    score = cross_val_score(knn_1, x, y_labels, scoring='accuracy', cv=kf)\n",
    "    mean_score = np.mean(score)\n",
    "    accuracy[i] = mean_score"
   ]
  },
  {
   "cell_type": "code",
   "execution_count": 15,
   "metadata": {},
   "outputs": [
    {
     "data": {
      "text/plain": [
       "{2: 0.3314606741573034,\n",
       " 6: 0.6492337164750959,\n",
       " 8: 0.6561264822134387,\n",
       " 10: 0.6767973856209151,\n",
       " 15: 0.6823232323232323,\n",
       " 20: 0.7180555555555554,\n",
       " 23: 0.7336956521739131,\n",
       " 25: 0.7392857142857142,\n",
       " 26: 0.7307692307692307,\n",
       " 35: 0.7552380952380954,\n",
       " 40: 0.7537499999999999,\n",
       " 43: 0.7558139534883721,\n",
       " 48: 0.7447916666666666,\n",
       " 50: 0.7483333333333334,\n",
       " 58: 0.7543103448275862,\n",
       " 66: 0.7525252525252526,\n",
       " 75: 0.7644444444444444,\n",
       " 85: 0.7647058823529411,\n",
       " 95: 0.7684210526315789,\n",
       " 100: 0.77}"
      ]
     },
     "execution_count": 15,
     "metadata": {},
     "output_type": "execute_result"
    }
   ],
   "source": [
    "accuracy"
   ]
  },
  {
   "cell_type": "code",
   "execution_count": 16,
   "metadata": {},
   "outputs": [
    {
     "data": {
      "image/png": "[encoded data removed]",
      "text/plain": [
       "<Figure size 432x288 with 1 Axes>"
      ]
     },
     "metadata": {
      "needs_background": "light"
     },
     "output_type": "display_data"
    }
   ],
   "source": [
    "kfoldlist =  sorted(accuracy.items())\n",
    "x , y = zip(*kfoldlist)\n",
    "plt.xlabel('k-fold values')\n",
    "plt.ylabel('accuracy rate in 1-NN classifier')\n",
    "plt.title('k fold value vs accuracy for 1-NN')\n",
    "plt.plot(x,y)\n",
    "plt.show()"
   ]
  },
  {
   "cell_type": "markdown",
   "metadata": {},
   "source": [
    "## 1.1.c)normalize them so as to equalize their contributions to the distance function. There are many ways to do this; one option is to linearly rescale each coordinate so that the values lie in [0,1] (i.e. the minimum value on that coordinate maps to 0 and the maximum value maps to 1). Do this, and then re-estimate the accuracy and confusion matrix using LOOCV. Did the normalization help performance?"
   ]
  },
  {
   "cell_type": "code",
   "execution_count": 17,
   "metadata": {},
   "outputs": [],
   "source": [
    "from sklearn.preprocessing import MinMaxScaler"
   ]
  },
  {
   "cell_type": "code",
   "execution_count": 24,
   "metadata": {},
   "outputs": [
    {
     "data": {
      "text/plain": [
       "(178, 13)"
      ]
     },
     "execution_count": 24,
     "metadata": {},
     "output_type": "execute_result"
    }
   ],
   "source": [
    "x.shape"
   ]
  },
  {
   "cell_type": "code",
   "execution_count": 25,
   "metadata": {},
   "outputs": [],
   "source": [
    "scaler = MinMaxScaler()\n",
    "x_scale = scaler.fit_transform(x)"
   ]
  },
  {
   "cell_type": "markdown",
   "metadata": {},
   "source": [
    "# The normalized data increased the accuracy from 77% to 95%"
   ]
  },
  {
   "cell_type": "code",
   "execution_count": 26,
   "metadata": {},
   "outputs": [
    {
     "name": "stdout",
     "output_type": "stream",
     "text": [
      "0.949438202247191\n"
     ]
    }
   ],
   "source": [
    "postive = []\n",
    "confumatrix_scale= []\n",
    "for train_index, test_index in loo.split(x_scale):\n",
    "    #print(\"TRAIN:\", train_index, \"TEST:\", test_index)\n",
    "    x_train, x_test = x_scale[train_index], x_scale[test_index]\n",
    "    y_train, y_test = y[train_index], y[test_index]\n",
    "    y_pred = find_NN(x_test,x_train,y_train)\n",
    "    confumatrix_scale.append(y_pred)\n",
    "    if y_test == y_pred:\n",
    "        postive.append(y_pred)\n",
    "#print (postive/y.shape[0])\n",
    "print(len(postive)/y.shape[0])"
   ]
  },
  {
   "cell_type": "code",
   "execution_count": 27,
   "metadata": {},
   "outputs": [
    {
     "data": {
      "text/plain": [
       "array([[59,  5,  0],\n",
       "       [ 0, 62,  0],\n",
       "       [ 0,  4, 48]])"
      ]
     },
     "execution_count": 27,
     "metadata": {},
     "output_type": "execute_result"
    }
   ],
   "source": [
    "##add confustion matrix\n",
    "confusion_matrix(confumatrix_scale, y)"
   ]
  },
  {
   "cell_type": "markdown",
   "metadata": {},
   "source": [
    "## 1.2a) Randomly partition the data into 200 training points and 103 test points. Fit a logistic regression model to the training data and display the coefficients of the model. If you had to choose the three features that were most influential in the model, what would they be?"
   ]
  },
  {
   "cell_type": "code",
   "execution_count": 28,
   "metadata": {},
   "outputs": [],
   "source": [
    "heart = pd.read_csv('heart.csv',delimiter=',')"
   ]
  },
  {
   "cell_type": "code",
   "execution_count": 29,
   "metadata": {},
   "outputs": [
    {
     "data": {
      "text/html": [
       "<div>\n",
       "<style scoped>\n",
       "    .dataframe tbody tr th:only-of-type {\n",
       "        vertical-align: middle;\n",
       "    }\n",
       "\n",
       "    .dataframe tbody tr th {\n",
       "        vertical-align: top;\n",
       "    }\n",
       "\n",
       "    .dataframe thead th {\n",
       "        text-align: right;\n",
       "    }\n",
       "</style>\n",
       "<table border=\"1\" class=\"dataframe\">\n",
       "  <thead>\n",
       "    <tr style=\"text-align: right;\">\n",
       "      <th></th>\n",
       "      <th>age</th>\n",
       "      <th>sex</th>\n",
       "      <th>cp</th>\n",
       "      <th>trestbps</th>\n",
       "      <th>chol</th>\n",
       "      <th>fbs</th>\n",
       "      <th>restecg</th>\n",
       "      <th>thalach</th>\n",
       "      <th>exang</th>\n",
       "      <th>oldpeak</th>\n",
       "      <th>slope</th>\n",
       "      <th>ca</th>\n",
       "      <th>thal</th>\n",
       "      <th>target</th>\n",
       "    </tr>\n",
       "  </thead>\n",
       "  <tbody>\n",
       "    <tr>\n",
       "      <th>0</th>\n",
       "      <td>63</td>\n",
       "      <td>1</td>\n",
       "      <td>3</td>\n",
       "      <td>145</td>\n",
       "      <td>233</td>\n",
       "      <td>1</td>\n",
       "      <td>0</td>\n",
       "      <td>150</td>\n",
       "      <td>0</td>\n",
       "      <td>2.3</td>\n",
       "      <td>0</td>\n",
       "      <td>0</td>\n",
       "      <td>1</td>\n",
       "      <td>1</td>\n",
       "    </tr>\n",
       "    <tr>\n",
       "      <th>1</th>\n",
       "      <td>37</td>\n",
       "      <td>1</td>\n",
       "      <td>2</td>\n",
       "      <td>130</td>\n",
       "      <td>250</td>\n",
       "      <td>0</td>\n",
       "      <td>1</td>\n",
       "      <td>187</td>\n",
       "      <td>0</td>\n",
       "      <td>3.5</td>\n",
       "      <td>0</td>\n",
       "      <td>0</td>\n",
       "      <td>2</td>\n",
       "      <td>1</td>\n",
       "    </tr>\n",
       "    <tr>\n",
       "      <th>2</th>\n",
       "      <td>41</td>\n",
       "      <td>0</td>\n",
       "      <td>1</td>\n",
       "      <td>130</td>\n",
       "      <td>204</td>\n",
       "      <td>0</td>\n",
       "      <td>0</td>\n",
       "      <td>172</td>\n",
       "      <td>0</td>\n",
       "      <td>1.4</td>\n",
       "      <td>2</td>\n",
       "      <td>0</td>\n",
       "      <td>2</td>\n",
       "      <td>1</td>\n",
       "    </tr>\n",
       "    <tr>\n",
       "      <th>3</th>\n",
       "      <td>56</td>\n",
       "      <td>1</td>\n",
       "      <td>1</td>\n",
       "      <td>120</td>\n",
       "      <td>236</td>\n",
       "      <td>0</td>\n",
       "      <td>1</td>\n",
       "      <td>178</td>\n",
       "      <td>0</td>\n",
       "      <td>0.8</td>\n",
       "      <td>2</td>\n",
       "      <td>0</td>\n",
       "      <td>2</td>\n",
       "      <td>1</td>\n",
       "    </tr>\n",
       "    <tr>\n",
       "      <th>4</th>\n",
       "      <td>57</td>\n",
       "      <td>0</td>\n",
       "      <td>0</td>\n",
       "      <td>120</td>\n",
       "      <td>354</td>\n",
       "      <td>0</td>\n",
       "      <td>1</td>\n",
       "      <td>163</td>\n",
       "      <td>1</td>\n",
       "      <td>0.6</td>\n",
       "      <td>2</td>\n",
       "      <td>0</td>\n",
       "      <td>2</td>\n",
       "      <td>1</td>\n",
       "    </tr>\n",
       "  </tbody>\n",
       "</table>\n",
       "</div>"
      ],
      "text/plain": [
       "   age  sex  cp  trestbps  chol  fbs  restecg  thalach  exang  oldpeak  slope  \\\n",
       "0   63    1   3       145   233    1        0      150      0      2.3      0   \n",
       "1   37    1   2       130   250    0        1      187      0      3.5      0   \n",
       "2   41    0   1       130   204    0        0      172      0      1.4      2   \n",
       "3   56    1   1       120   236    0        1      178      0      0.8      2   \n",
       "4   57    0   0       120   354    0        1      163      1      0.6      2   \n",
       "\n",
       "   ca  thal  target  \n",
       "0   0     1       1  \n",
       "1   0     2       1  \n",
       "2   0     2       1  \n",
       "3   0     2       1  \n",
       "4   0     2       1  "
      ]
     },
     "execution_count": 29,
     "metadata": {},
     "output_type": "execute_result"
    }
   ],
   "source": [
    "heart.head()"
   ]
  },
  {
   "cell_type": "code",
   "execution_count": 30,
   "metadata": {},
   "outputs": [
    {
     "data": {
      "text/plain": [
       "(303, 14)"
      ]
     },
     "execution_count": 30,
     "metadata": {},
     "output_type": "execute_result"
    }
   ],
   "source": [
    "heart.shape"
   ]
  },
  {
   "cell_type": "code",
   "execution_count": 31,
   "metadata": {},
   "outputs": [],
   "source": [
    "x2=heart.iloc[:,0:13]"
   ]
  },
  {
   "cell_type": "code",
   "execution_count": 32,
   "metadata": {},
   "outputs": [],
   "source": [
    "y2=heart.pop('target')"
   ]
  },
  {
   "cell_type": "code",
   "execution_count": 33,
   "metadata": {},
   "outputs": [],
   "source": [
    "x2_=x2.values\n",
    "y2_=y2.values"
   ]
  },
  {
   "cell_type": "code",
   "execution_count": 57,
   "metadata": {},
   "outputs": [],
   "source": [
    "#Randomly partition the data into 200 training points and 103 test points. \n",
    "from sklearn.model_selection import train_test_split\n",
    "from sklearn.linear_model import LogisticRegression"
   ]
  },
  {
   "cell_type": "code",
   "execution_count": 58,
   "metadata": {},
   "outputs": [],
   "source": [
    "x2_train, x2_test, y2_train, y2_test = train_test_split(x2_, y2_, test_size = 103)"
   ]
  },
  {
   "cell_type": "code",
   "execution_count": 59,
   "metadata": {},
   "outputs": [
    {
     "name": "stdout",
     "output_type": "stream",
     "text": [
      "(103, 13)\n",
      "(200,)\n"
     ]
    },
    {
     "data": {
      "text/plain": [
       "(103,)"
      ]
     },
     "execution_count": 59,
     "metadata": {},
     "output_type": "execute_result"
    }
   ],
   "source": [
    "print(x2_test.shape)\n",
    "print(y2_train.shape)\n",
    "y2_test.shape"
   ]
  },
  {
   "cell_type": "code",
   "execution_count": 60,
   "metadata": {},
   "outputs": [
    {
     "data": {
      "text/plain": [
       "(200,)"
      ]
     },
     "execution_count": 60,
     "metadata": {},
     "output_type": "execute_result"
    }
   ],
   "source": [
    "clf = LogisticRegression(solver='liblinear')\n",
    "y2_train.shape"
   ]
  },
  {
   "cell_type": "code",
   "execution_count": 61,
   "metadata": {},
   "outputs": [
    {
     "data": {
      "text/plain": [
       "LogisticRegression(solver='liblinear')"
      ]
     },
     "execution_count": 61,
     "metadata": {},
     "output_type": "execute_result"
    }
   ],
   "source": [
    "clf.fit(x2_train,y2_train)"
   ]
  },
  {
   "cell_type": "code",
   "execution_count": 62,
   "metadata": {},
   "outputs": [
    {
     "data": {
      "text/plain": [
       "array([[55.,  0.,  1., ...,  1.,  0.,  2.],\n",
       "       [43.,  0.,  0., ...,  1.,  0.,  3.],\n",
       "       [44.,  1.,  0., ...,  0.,  0.,  1.],\n",
       "       ...,\n",
       "       [65.,  1.,  0., ...,  1.,  1.,  3.],\n",
       "       [69.,  1.,  2., ...,  1.,  3.,  3.],\n",
       "       [56.,  1.,  1., ...,  2.,  0.,  3.]])"
      ]
     },
     "execution_count": 62,
     "metadata": {},
     "output_type": "execute_result"
    }
   ],
   "source": [
    "x2_train"
   ]
  },
  {
   "cell_type": "code",
   "execution_count": 63,
   "metadata": {},
   "outputs": [
    {
     "data": {
      "text/html": [
       "<div>\n",
       "<style scoped>\n",
       "    .dataframe tbody tr th:only-of-type {\n",
       "        vertical-align: middle;\n",
       "    }\n",
       "\n",
       "    .dataframe tbody tr th {\n",
       "        vertical-align: top;\n",
       "    }\n",
       "\n",
       "    .dataframe thead th {\n",
       "        text-align: right;\n",
       "    }\n",
       "</style>\n",
       "<table border=\"1\" class=\"dataframe\">\n",
       "  <thead>\n",
       "    <tr style=\"text-align: right;\">\n",
       "      <th></th>\n",
       "      <th>features</th>\n",
       "      <th>coef</th>\n",
       "    </tr>\n",
       "  </thead>\n",
       "  <tbody>\n",
       "    <tr>\n",
       "      <th>0</th>\n",
       "      <td>age</td>\n",
       "      <td>0.000897</td>\n",
       "    </tr>\n",
       "    <tr>\n",
       "      <th>1</th>\n",
       "      <td>sex</td>\n",
       "      <td>-1.914544</td>\n",
       "    </tr>\n",
       "    <tr>\n",
       "      <th>2</th>\n",
       "      <td>cp</td>\n",
       "      <td>0.752132</td>\n",
       "    </tr>\n",
       "    <tr>\n",
       "      <th>3</th>\n",
       "      <td>trestbps</td>\n",
       "      <td>-0.016628</td>\n",
       "    </tr>\n",
       "    <tr>\n",
       "      <th>4</th>\n",
       "      <td>chol</td>\n",
       "      <td>-0.006346</td>\n",
       "    </tr>\n",
       "    <tr>\n",
       "      <th>5</th>\n",
       "      <td>fbs</td>\n",
       "      <td>0.131375</td>\n",
       "    </tr>\n",
       "    <tr>\n",
       "      <th>6</th>\n",
       "      <td>restecg</td>\n",
       "      <td>0.654833</td>\n",
       "    </tr>\n",
       "    <tr>\n",
       "      <th>7</th>\n",
       "      <td>thalach</td>\n",
       "      <td>0.035689</td>\n",
       "    </tr>\n",
       "    <tr>\n",
       "      <th>8</th>\n",
       "      <td>exang</td>\n",
       "      <td>-0.531506</td>\n",
       "    </tr>\n",
       "    <tr>\n",
       "      <th>9</th>\n",
       "      <td>oldpeak</td>\n",
       "      <td>-0.597139</td>\n",
       "    </tr>\n",
       "    <tr>\n",
       "      <th>10</th>\n",
       "      <td>slope</td>\n",
       "      <td>0.915270</td>\n",
       "    </tr>\n",
       "    <tr>\n",
       "      <th>11</th>\n",
       "      <td>ca</td>\n",
       "      <td>-0.502432</td>\n",
       "    </tr>\n",
       "    <tr>\n",
       "      <th>12</th>\n",
       "      <td>thal</td>\n",
       "      <td>-0.746183</td>\n",
       "    </tr>\n",
       "  </tbody>\n",
       "</table>\n",
       "</div>"
      ],
      "text/plain": [
       "    features      coef\n",
       "0        age  0.000897\n",
       "1        sex -1.914544\n",
       "2         cp  0.752132\n",
       "3   trestbps -0.016628\n",
       "4       chol -0.006346\n",
       "5        fbs  0.131375\n",
       "6    restecg  0.654833\n",
       "7    thalach  0.035689\n",
       "8      exang -0.531506\n",
       "9    oldpeak -0.597139\n",
       "10     slope  0.915270\n",
       "11        ca -0.502432\n",
       "12      thal -0.746183"
      ]
     },
     "execution_count": 63,
     "metadata": {},
     "output_type": "execute_result"
    }
   ],
   "source": [
    "pd.DataFrame(zip(x2.columns, np.transpose(clf.coef_.tolist()[0])), columns=['features', 'coef'])"
   ]
  },
  {
   "cell_type": "markdown",
   "metadata": {},
   "source": [
    "## three features that were most influential for -1 in the model would be sex,exang,and thal. The three features that were most influential for +1 class would be the cp,slope,and restecg."
   ]
  },
  {
   "cell_type": "code",
   "execution_count": 64,
   "metadata": {},
   "outputs": [
    {
     "name": "stdout",
     "output_type": "stream",
     "text": [
      "-1 top 3 features [[ 1 12  9]]\n",
      "+1 top 3 features [[10  2  6]]\n"
     ]
    }
   ],
   "source": [
    "f_3=np.argsort(clf.coef_)[:,[0,1,2]]\n",
    "print('-1 top 3 features',f_3)\n",
    "f_3_=np.argsort(clf.coef_)[:,[-1,-2,-3]]\n",
    "print('+1 top 3 features',f_3_)\n"
   ]
  },
  {
   "cell_type": "code",
   "execution_count": 65,
   "metadata": {},
   "outputs": [],
   "source": [
    "from sklearn.metrics import accuracy_score"
   ]
  },
  {
   "cell_type": "markdown",
   "metadata": {},
   "source": [
    "## 1.2 (b) What is the test error of your model?\n",
    "## check test error add predict "
   ]
  },
  {
   "cell_type": "code",
   "execution_count": 66,
   "metadata": {},
   "outputs": [
    {
     "name": "stdout",
     "output_type": "stream",
     "text": [
      "0.22330097087378642\n"
     ]
    }
   ],
   "source": [
    "score = clf.score(x2_test, y2_test)\n",
    "error=1-score\n",
    "print(error)\n"
   ]
  },
  {
   "cell_type": "markdown",
   "metadata": {},
   "source": [
    "## 1.2 (c) Estimate the error by using 5-fold cross-validation on the training set. How does this compare to the test error?\n",
    "## -- the error rate by using 5 fold cross-validation is 18.5%. By using the last method, the error rate is 22.3%. The two method does not have too much difference."
   ]
  },
  {
   "cell_type": "code",
   "execution_count": 67,
   "metadata": {},
   "outputs": [],
   "source": [
    "kfold2 = KFold(n_splits= 5, shuffle=True)\n",
    "kfold_score = cross_val_score(clf, x2_train, y2_train, scoring='accuracy', cv=kfold2)"
   ]
  },
  {
   "cell_type": "code",
   "execution_count": 68,
   "metadata": {},
   "outputs": [
    {
     "name": "stdout",
     "output_type": "stream",
     "text": [
      "0.18500000000000016\n"
     ]
    }
   ],
   "source": [
    "kfold_error=1-(np.mean(kfold_score))\n",
    "print(kfold_error)"
   ]
  },
  {
   "cell_type": "markdown",
   "metadata": {},
   "source": [
    "## 1.3 a) Use this procedure to find a k-sparse logistic regression solution for the heart disease data,\n",
    "## for k = 1, 2, . . . , 13. Create a single plot showing the test error \n",
    "## and cross-validation error for all these values of k."
   ]
  },
  {
   "cell_type": "code",
   "execution_count": 69,
   "metadata": {},
   "outputs": [],
   "source": [
    "from sklearn.feature_selection import RFE\n"
   ]
  },
  {
   "cell_type": "code",
   "execution_count": null,
   "metadata": {},
   "outputs": [],
   "source": []
  },
  {
   "cell_type": "code",
   "execution_count": null,
   "metadata": {},
   "outputs": [],
   "source": []
  },
  {
   "cell_type": "markdown",
   "metadata": {},
   "source": [
    "##\n",
    "• Let S be empty (this is the set of chosen features)\n",
    "• Repeat k times:\n",
    "– For every feature f ̸∈ S:\n",
    "∗ Estimate the error of a classifier based on features S ∪ {f }\n",
    "– Select the feature f with the smallest error estimate\n",
    "– Add this feature to S\n",
    "• Now learn a model based only on features S"
   ]
  },
  {
   "cell_type": "code",
   "execution_count": 72,
   "metadata": {},
   "outputs": [
    {
     "data": {
      "text/plain": [
       "(200, 13)"
      ]
     },
     "execution_count": 72,
     "metadata": {},
     "output_type": "execute_result"
    }
   ],
   "source": [
    "\n",
    "current_accuracy = cross_val_score(clf, x2_train[:,[2,0,7]], y2_train, scoring='accuracy', cv=5)\n",
    "np.mean(current_accuracy)\n",
    "x2_train.shape"
   ]
  },
  {
   "cell_type": "code",
   "execution_count": 73,
   "metadata": {},
   "outputs": [],
   "source": [
    "def sds(x_train,y_train,x_test,y_test,feature_number):\n",
    "    s = []\n",
    "    n = x_train.shape[1]\n",
    "    clf = LogisticRegression(solver='liblinear')\n",
    "\n",
    "    for k in range(feature_number):\n",
    "        to_select = 0\n",
    "        error = 1\n",
    "        for i in range(n):\n",
    "            if i not in s:\n",
    "                current_index = s + [i]\n",
    "                current_df = x_train[:,current_index]\n",
    "                current_accuracy = cross_val_score(clf, current_df, y_train, scoring='accuracy', cv=5)\n",
    "                current_error= 1-np.mean(current_accuracy)\n",
    "                print(current_index, current_error)\n",
    "                if current_error < error:\n",
    "                    error=current_error\n",
    "                    to_select = i\n",
    "        if to_select not in s:\n",
    "            s.append(to_select)\n",
    "            print(to_select)\n",
    "            \n",
    "    clf.fit(x_train[:,s],y_train)        \n",
    "    test_error = 1-clf.score(x_test[:,s], y_test)\n",
    "    \n",
    "    return s, error, test_error\n",
    "    "
   ]
  },
  {
   "cell_type": "code",
   "execution_count": 74,
   "metadata": {},
   "outputs": [
    {
     "name": "stdout",
     "output_type": "stream",
     "text": [
      "[0] 0.38\n",
      "[1] 0.365\n",
      "[2] 0.265\n",
      "[3] 0.4099999999999999\n",
      "[4] 0.44999999999999996\n",
      "[5] 0.48\n",
      "[6] 0.3949999999999999\n",
      "[7] 0.32499999999999996\n",
      "[8] 0.30500000000000005\n",
      "[9] 0.31500000000000006\n",
      "[10] 0.275\n",
      "[11] 0.29000000000000004\n",
      "[12] 0.24\n",
      "12\n",
      "[12, 0] 0.24\n",
      "[12, 1] 0.33000000000000007\n",
      "[12, 2] 0.30000000000000004\n",
      "[12, 3] 0.245\n",
      "[12, 4] 0.235\n",
      "[12, 5] 0.24\n",
      "[12, 6] 0.32000000000000006\n",
      "[12, 7] 0.24\n",
      "[12, 8] 0.30500000000000005\n",
      "[12, 9] 0.27000000000000013\n",
      "[12, 10] 0.29000000000000004\n",
      "[12, 11] 0.27500000000000013\n",
      "4\n",
      "[12, 4, 0] 0.2550000000000001\n",
      "[12, 4, 1] 0.32000000000000006\n",
      "[12, 4, 2] 0.29500000000000004\n",
      "[12, 4, 3] 0.24\n",
      "[12, 4, 5] 0.235\n",
      "[12, 4, 6] 0.355\n",
      "[12, 4, 7] 0.2300000000000001\n",
      "[12, 4, 8] 0.30999999999999994\n",
      "[12, 4, 9] 0.275\n",
      "[12, 4, 10] 0.2849999999999999\n",
      "[12, 4, 11] 0.29000000000000004\n",
      "7\n",
      "[12, 4, 7, 0] 0.24\n",
      "[12, 4, 7, 1] 0.19499999999999995\n",
      "[12, 4, 7, 2] 0.22499999999999998\n",
      "[12, 4, 7, 3] 0.2450000000000001\n",
      "[12, 4, 7, 5] 0.24\n",
      "[12, 4, 7, 6] 0.22999999999999998\n",
      "[12, 4, 7, 8] 0.24\n",
      "[12, 4, 7, 9] 0.22499999999999998\n",
      "[12, 4, 7, 10] 0.24\n",
      "[12, 4, 7, 11] 0.20999999999999996\n",
      "1\n",
      "[12, 4, 7, 1, 0] 0.21500000000000008\n",
      "[12, 4, 7, 1, 2] 0.20499999999999985\n",
      "[12, 4, 7, 1, 3] 0.19999999999999996\n",
      "[12, 4, 7, 1, 5] 0.19499999999999995\n",
      "[12, 4, 7, 1, 6] 0.18499999999999994\n",
      "[12, 4, 7, 1, 8] 0.20000000000000007\n",
      "[12, 4, 7, 1, 9] 0.19999999999999996\n",
      "[12, 4, 7, 1, 10] 0.19000000000000006\n",
      "[12, 4, 7, 1, 11] 0.18500000000000016\n",
      "6\n",
      "[12, 4, 7, 1, 6, 0] 0.20499999999999996\n",
      "[12, 4, 7, 1, 6, 2] 0.20999999999999996\n",
      "[12, 4, 7, 1, 6, 3] 0.18999999999999984\n",
      "[12, 4, 7, 1, 6, 5] 0.19499999999999995\n",
      "[12, 4, 7, 1, 6, 8] 0.20999999999999996\n",
      "[12, 4, 7, 1, 6, 9] 0.19000000000000006\n",
      "[12, 4, 7, 1, 6, 10] 0.19499999999999995\n",
      "[12, 4, 7, 1, 6, 11] 0.19499999999999995\n",
      "3\n",
      "[12, 4, 7, 1, 6, 3, 0] 0.21000000000000008\n",
      "[12, 4, 7, 1, 6, 3, 2] 0.19500000000000006\n",
      "[12, 4, 7, 1, 6, 3, 5] 0.19499999999999995\n",
      "[12, 4, 7, 1, 6, 3, 8] 0.20999999999999996\n",
      "[12, 4, 7, 1, 6, 3, 9] 0.20500000000000007\n",
      "[12, 4, 7, 1, 6, 3, 10] 0.19000000000000006\n",
      "[12, 4, 7, 1, 6, 3, 11] 0.17500000000000004\n",
      "11\n",
      "[12, 4, 7, 1, 6, 3, 11, 0] 0.17500000000000004\n",
      "[12, 4, 7, 1, 6, 3, 11, 2] 0.16500000000000004\n",
      "[12, 4, 7, 1, 6, 3, 11, 5] 0.19000000000000006\n",
      "[12, 4, 7, 1, 6, 3, 11, 8] 0.20500000000000007\n",
      "[12, 4, 7, 1, 6, 3, 11, 9] 0.18000000000000005\n",
      "[12, 4, 7, 1, 6, 3, 11, 10] 0.19000000000000006\n",
      "2\n",
      "[12, 4, 7, 1, 6, 3, 11, 2, 0] 0.16500000000000004\n",
      "[12, 4, 7, 1, 6, 3, 11, 2, 5] 0.16500000000000004\n",
      "[12, 4, 7, 1, 6, 3, 11, 2, 8] 0.17500000000000004\n",
      "[12, 4, 7, 1, 6, 3, 11, 2, 9] 0.15499999999999992\n",
      "[12, 4, 7, 1, 6, 3, 11, 2, 10] 0.15500000000000003\n",
      "9\n",
      "[12, 4, 7, 1, 6, 3, 11, 2, 9, 0] 0.15999999999999992\n",
      "[12, 4, 7, 1, 6, 3, 11, 2, 9, 5] 0.15499999999999992\n",
      "[12, 4, 7, 1, 6, 3, 11, 2, 9, 8] 0.15499999999999992\n",
      "[12, 4, 7, 1, 6, 3, 11, 2, 9, 10] 0.1299999999999999\n",
      "10\n",
      "[12, 4, 7, 1, 6, 3, 11, 2, 9, 10, 0] 0.14500000000000013\n",
      "[12, 4, 7, 1, 6, 3, 11, 2, 9, 10, 5] 0.1299999999999999\n",
      "[12, 4, 7, 1, 6, 3, 11, 2, 9, 10, 8] 0.15999999999999992\n",
      "5\n",
      "[12, 4, 7, 1, 6, 3, 11, 2, 9, 10, 5, 0] 0.14500000000000013\n",
      "[12, 4, 7, 1, 6, 3, 11, 2, 9, 10, 5, 8] 0.15500000000000003\n",
      "0\n",
      "[12, 4, 7, 1, 6, 3, 11, 2, 9, 10, 5, 0, 8] 0.15000000000000002\n",
      "8\n"
     ]
    },
    {
     "data": {
      "text/plain": [
       "([12, 4, 7, 1, 6, 3, 11, 2, 9, 10, 5, 0, 8],\n",
       " 0.15000000000000002,\n",
       " 0.22330097087378642)"
      ]
     },
     "execution_count": 74,
     "metadata": {},
     "output_type": "execute_result"
    }
   ],
   "source": [
    "sds(x2_train,y2_train,x2_test, y2_test,13)"
   ]
  },
  {
   "cell_type": "code",
   "execution_count": 75,
   "metadata": {},
   "outputs": [
    {
     "name": "stdout",
     "output_type": "stream",
     "text": [
      "[0] 0.38\n",
      "[1] 0.365\n",
      "[2] 0.265\n",
      "[3] 0.4099999999999999\n",
      "[4] 0.44999999999999996\n",
      "[5] 0.48\n",
      "[6] 0.3949999999999999\n",
      "[7] 0.32499999999999996\n",
      "[8] 0.30500000000000005\n",
      "[9] 0.31500000000000006\n",
      "[10] 0.275\n",
      "[11] 0.29000000000000004\n",
      "[12] 0.24\n",
      "12\n",
      "[12, 0] 0.24\n",
      "[12, 1] 0.33000000000000007\n",
      "[12, 2] 0.30000000000000004\n",
      "[12, 3] 0.245\n",
      "[12, 4] 0.235\n",
      "[12, 5] 0.24\n",
      "[12, 6] 0.32000000000000006\n",
      "[12, 7] 0.24\n",
      "[12, 8] 0.30500000000000005\n",
      "[12, 9] 0.27000000000000013\n",
      "[12, 10] 0.29000000000000004\n",
      "[12, 11] 0.27500000000000013\n",
      "4\n"
     ]
    },
    {
     "data": {
      "text/plain": [
       "0.2815533980582524"
      ]
     },
     "execution_count": 75,
     "metadata": {},
     "output_type": "execute_result"
    }
   ],
   "source": [
    "test_error=sds(x2_train,y2_train,x2_test, y2_test,2)[2]\n",
    "test_error"
   ]
  },
  {
   "cell_type": "code",
   "execution_count": 76,
   "metadata": {},
   "outputs": [
    {
     "name": "stdout",
     "output_type": "stream",
     "text": [
      "[0] 0.38\n",
      "[1] 0.365\n",
      "[2] 0.265\n",
      "[3] 0.4099999999999999\n",
      "[4] 0.44999999999999996\n",
      "[5] 0.48\n",
      "[6] 0.3949999999999999\n",
      "[7] 0.32499999999999996\n",
      "[8] 0.30500000000000005\n",
      "[9] 0.31500000000000006\n",
      "[10] 0.275\n",
      "[11] 0.29000000000000004\n",
      "[12] 0.24\n",
      "12\n",
      "[0] 0.38\n",
      "[1] 0.365\n",
      "[2] 0.265\n",
      "[3] 0.4099999999999999\n",
      "[4] 0.44999999999999996\n",
      "[5] 0.48\n",
      "[6] 0.3949999999999999\n",
      "[7] 0.32499999999999996\n",
      "[8] 0.30500000000000005\n",
      "[9] 0.31500000000000006\n",
      "[10] 0.275\n",
      "[11] 0.29000000000000004\n",
      "[12] 0.24\n",
      "12\n",
      "[12, 0] 0.24\n",
      "[12, 1] 0.33000000000000007\n",
      "[12, 2] 0.30000000000000004\n",
      "[12, 3] 0.245\n",
      "[12, 4] 0.235\n",
      "[12, 5] 0.24\n",
      "[12, 6] 0.32000000000000006\n",
      "[12, 7] 0.24\n",
      "[12, 8] 0.30500000000000005\n",
      "[12, 9] 0.27000000000000013\n",
      "[12, 10] 0.29000000000000004\n",
      "[12, 11] 0.27500000000000013\n",
      "4\n",
      "[0] 0.38\n",
      "[1] 0.365\n",
      "[2] 0.265\n",
      "[3] 0.4099999999999999\n",
      "[4] 0.44999999999999996\n",
      "[5] 0.48\n",
      "[6] 0.3949999999999999\n",
      "[7] 0.32499999999999996\n",
      "[8] 0.30500000000000005\n",
      "[9] 0.31500000000000006\n",
      "[10] 0.275\n",
      "[11] 0.29000000000000004\n",
      "[12] 0.24\n",
      "12\n",
      "[12, 0] 0.24\n",
      "[12, 1] 0.33000000000000007\n",
      "[12, 2] 0.30000000000000004\n",
      "[12, 3] 0.245\n",
      "[12, 4] 0.235\n",
      "[12, 5] 0.24\n",
      "[12, 6] 0.32000000000000006\n",
      "[12, 7] 0.24\n",
      "[12, 8] 0.30500000000000005\n",
      "[12, 9] 0.27000000000000013\n",
      "[12, 10] 0.29000000000000004\n",
      "[12, 11] 0.27500000000000013\n",
      "4\n",
      "[12, 4, 0] 0.2550000000000001\n",
      "[12, 4, 1] 0.32000000000000006\n",
      "[12, 4, 2] 0.29500000000000004\n",
      "[12, 4, 3] 0.24\n",
      "[12, 4, 5] 0.235\n",
      "[12, 4, 6] 0.355\n",
      "[12, 4, 7] 0.2300000000000001\n",
      "[12, 4, 8] 0.30999999999999994\n",
      "[12, 4, 9] 0.275\n",
      "[12, 4, 10] 0.2849999999999999\n",
      "[12, 4, 11] 0.29000000000000004\n",
      "7\n",
      "[0] 0.38\n",
      "[1] 0.365\n",
      "[2] 0.265\n",
      "[3] 0.4099999999999999\n",
      "[4] 0.44999999999999996\n",
      "[5] 0.48\n",
      "[6] 0.3949999999999999\n",
      "[7] 0.32499999999999996\n",
      "[8] 0.30500000000000005\n",
      "[9] 0.31500000000000006\n",
      "[10] 0.275\n",
      "[11] 0.29000000000000004\n",
      "[12] 0.24\n",
      "12\n",
      "[12, 0] 0.24\n",
      "[12, 1] 0.33000000000000007\n",
      "[12, 2] 0.30000000000000004\n",
      "[12, 3] 0.245\n",
      "[12, 4] 0.235\n",
      "[12, 5] 0.24\n",
      "[12, 6] 0.32000000000000006\n",
      "[12, 7] 0.24\n",
      "[12, 8] 0.30500000000000005\n",
      "[12, 9] 0.27000000000000013\n",
      "[12, 10] 0.29000000000000004\n",
      "[12, 11] 0.27500000000000013\n",
      "4\n",
      "[12, 4, 0] 0.2550000000000001\n",
      "[12, 4, 1] 0.32000000000000006\n",
      "[12, 4, 2] 0.29500000000000004\n",
      "[12, 4, 3] 0.24\n",
      "[12, 4, 5] 0.235\n",
      "[12, 4, 6] 0.355\n",
      "[12, 4, 7] 0.2300000000000001\n",
      "[12, 4, 8] 0.30999999999999994\n",
      "[12, 4, 9] 0.275\n",
      "[12, 4, 10] 0.2849999999999999\n",
      "[12, 4, 11] 0.29000000000000004\n",
      "7\n",
      "[12, 4, 7, 0] 0.24\n",
      "[12, 4, 7, 1] 0.19499999999999995\n",
      "[12, 4, 7, 2] 0.22499999999999998\n",
      "[12, 4, 7, 3] 0.2450000000000001\n",
      "[12, 4, 7, 5] 0.24\n",
      "[12, 4, 7, 6] 0.22999999999999998\n",
      "[12, 4, 7, 8] 0.24\n",
      "[12, 4, 7, 9] 0.22499999999999998\n",
      "[12, 4, 7, 10] 0.24\n",
      "[12, 4, 7, 11] 0.20999999999999996\n",
      "1\n",
      "[0] 0.38\n",
      "[1] 0.365\n",
      "[2] 0.265\n",
      "[3] 0.4099999999999999\n",
      "[4] 0.44999999999999996\n",
      "[5] 0.48\n",
      "[6] 0.3949999999999999\n",
      "[7] 0.32499999999999996\n",
      "[8] 0.30500000000000005\n",
      "[9] 0.31500000000000006\n",
      "[10] 0.275\n",
      "[11] 0.29000000000000004\n",
      "[12] 0.24\n",
      "12\n",
      "[12, 0] 0.24\n",
      "[12, 1] 0.33000000000000007\n",
      "[12, 2] 0.30000000000000004\n",
      "[12, 3] 0.245\n",
      "[12, 4] 0.235\n",
      "[12, 5] 0.24\n",
      "[12, 6] 0.32000000000000006\n",
      "[12, 7] 0.24\n",
      "[12, 8] 0.30500000000000005\n",
      "[12, 9] 0.27000000000000013\n",
      "[12, 10] 0.29000000000000004\n",
      "[12, 11] 0.27500000000000013\n",
      "4\n",
      "[12, 4, 0] 0.2550000000000001\n",
      "[12, 4, 1] 0.32000000000000006\n",
      "[12, 4, 2] 0.29500000000000004\n",
      "[12, 4, 3] 0.24\n",
      "[12, 4, 5] 0.235\n",
      "[12, 4, 6] 0.355\n",
      "[12, 4, 7] 0.2300000000000001\n",
      "[12, 4, 8] 0.30999999999999994\n",
      "[12, 4, 9] 0.275\n",
      "[12, 4, 10] 0.2849999999999999\n",
      "[12, 4, 11] 0.29000000000000004\n",
      "7\n",
      "[12, 4, 7, 0] 0.24\n",
      "[12, 4, 7, 1] 0.19499999999999995\n",
      "[12, 4, 7, 2] 0.22499999999999998\n",
      "[12, 4, 7, 3] 0.2450000000000001\n",
      "[12, 4, 7, 5] 0.24\n",
      "[12, 4, 7, 6] 0.22999999999999998\n",
      "[12, 4, 7, 8] 0.24\n",
      "[12, 4, 7, 9] 0.22499999999999998\n",
      "[12, 4, 7, 10] 0.24\n",
      "[12, 4, 7, 11] 0.20999999999999996\n",
      "1\n",
      "[12, 4, 7, 1, 0] 0.21500000000000008\n",
      "[12, 4, 7, 1, 2] 0.20499999999999985\n",
      "[12, 4, 7, 1, 3] 0.19999999999999996\n",
      "[12, 4, 7, 1, 5] 0.19499999999999995\n",
      "[12, 4, 7, 1, 6] 0.18499999999999994\n",
      "[12, 4, 7, 1, 8] 0.20000000000000007\n",
      "[12, 4, 7, 1, 9] 0.19999999999999996\n",
      "[12, 4, 7, 1, 10] 0.19000000000000006\n",
      "[12, 4, 7, 1, 11] 0.18500000000000016\n",
      "6\n",
      "[0] 0.38\n",
      "[1] 0.365\n",
      "[2] 0.265\n",
      "[3] 0.4099999999999999\n",
      "[4] 0.44999999999999996\n",
      "[5] 0.48\n",
      "[6] 0.3949999999999999\n",
      "[7] 0.32499999999999996\n",
      "[8] 0.30500000000000005\n",
      "[9] 0.31500000000000006\n",
      "[10] 0.275\n",
      "[11] 0.29000000000000004\n",
      "[12] 0.24\n",
      "12\n",
      "[12, 0] 0.24\n",
      "[12, 1] 0.33000000000000007\n",
      "[12, 2] 0.30000000000000004\n",
      "[12, 3] 0.245\n",
      "[12, 4] 0.235\n",
      "[12, 5] 0.24\n",
      "[12, 6] 0.32000000000000006\n",
      "[12, 7] 0.24\n",
      "[12, 8] 0.30500000000000005\n",
      "[12, 9] 0.27000000000000013\n",
      "[12, 10] 0.29000000000000004\n",
      "[12, 11] 0.27500000000000013\n",
      "4\n",
      "[12, 4, 0] 0.2550000000000001\n",
      "[12, 4, 1] 0.32000000000000006\n",
      "[12, 4, 2] 0.29500000000000004\n",
      "[12, 4, 3] 0.24\n",
      "[12, 4, 5] 0.235\n",
      "[12, 4, 6] 0.355\n",
      "[12, 4, 7] 0.2300000000000001\n",
      "[12, 4, 8] 0.30999999999999994\n",
      "[12, 4, 9] 0.275\n",
      "[12, 4, 10] 0.2849999999999999\n",
      "[12, 4, 11] 0.29000000000000004\n",
      "7\n",
      "[12, 4, 7, 0] 0.24\n",
      "[12, 4, 7, 1] 0.19499999999999995\n",
      "[12, 4, 7, 2] 0.22499999999999998\n",
      "[12, 4, 7, 3] 0.2450000000000001\n",
      "[12, 4, 7, 5] 0.24\n",
      "[12, 4, 7, 6] 0.22999999999999998\n",
      "[12, 4, 7, 8] 0.24\n",
      "[12, 4, 7, 9] 0.22499999999999998\n",
      "[12, 4, 7, 10] 0.24\n",
      "[12, 4, 7, 11] 0.20999999999999996\n",
      "1\n",
      "[12, 4, 7, 1, 0] 0.21500000000000008\n",
      "[12, 4, 7, 1, 2] 0.20499999999999985\n",
      "[12, 4, 7, 1, 3] 0.19999999999999996\n",
      "[12, 4, 7, 1, 5] 0.19499999999999995\n",
      "[12, 4, 7, 1, 6] 0.18499999999999994\n",
      "[12, 4, 7, 1, 8] 0.20000000000000007\n",
      "[12, 4, 7, 1, 9] 0.19999999999999996\n",
      "[12, 4, 7, 1, 10] 0.19000000000000006\n",
      "[12, 4, 7, 1, 11] 0.18500000000000016\n",
      "6\n",
      "[12, 4, 7, 1, 6, 0] 0.20499999999999996\n",
      "[12, 4, 7, 1, 6, 2] 0.20999999999999996\n",
      "[12, 4, 7, 1, 6, 3] 0.18999999999999984\n",
      "[12, 4, 7, 1, 6, 5] 0.19499999999999995\n",
      "[12, 4, 7, 1, 6, 8] 0.20999999999999996\n",
      "[12, 4, 7, 1, 6, 9] 0.19000000000000006\n",
      "[12, 4, 7, 1, 6, 10] 0.19499999999999995\n",
      "[12, 4, 7, 1, 6, 11] 0.19499999999999995\n",
      "3\n",
      "[0] 0.38\n",
      "[1] 0.365\n",
      "[2] 0.265\n",
      "[3] 0.4099999999999999\n",
      "[4] 0.44999999999999996\n",
      "[5] 0.48\n",
      "[6] 0.3949999999999999\n",
      "[7] 0.32499999999999996\n",
      "[8] 0.30500000000000005\n",
      "[9] 0.31500000000000006\n",
      "[10] 0.275\n",
      "[11] 0.29000000000000004\n",
      "[12] 0.24\n",
      "12\n",
      "[12, 0] 0.24\n",
      "[12, 1] 0.33000000000000007\n",
      "[12, 2] 0.30000000000000004\n",
      "[12, 3] 0.245\n",
      "[12, 4] 0.235\n",
      "[12, 5] 0.24\n",
      "[12, 6] 0.32000000000000006\n",
      "[12, 7] 0.24\n",
      "[12, 8] 0.30500000000000005\n",
      "[12, 9] 0.27000000000000013\n",
      "[12, 10] 0.29000000000000004\n",
      "[12, 11] 0.27500000000000013\n",
      "4\n",
      "[12, 4, 0] 0.2550000000000001\n",
      "[12, 4, 1] 0.32000000000000006\n",
      "[12, 4, 2] 0.29500000000000004\n",
      "[12, 4, 3] 0.24\n",
      "[12, 4, 5] 0.235\n",
      "[12, 4, 6] 0.355\n",
      "[12, 4, 7] 0.2300000000000001\n",
      "[12, 4, 8] 0.30999999999999994\n",
      "[12, 4, 9] 0.275\n",
      "[12, 4, 10] 0.2849999999999999\n",
      "[12, 4, 11] 0.29000000000000004\n",
      "7\n",
      "[12, 4, 7, 0] 0.24\n",
      "[12, 4, 7, 1] 0.19499999999999995\n",
      "[12, 4, 7, 2] 0.22499999999999998\n",
      "[12, 4, 7, 3] 0.2450000000000001\n",
      "[12, 4, 7, 5] 0.24\n",
      "[12, 4, 7, 6] 0.22999999999999998\n",
      "[12, 4, 7, 8] 0.24\n",
      "[12, 4, 7, 9] 0.22499999999999998\n",
      "[12, 4, 7, 10] 0.24\n",
      "[12, 4, 7, 11] 0.20999999999999996\n",
      "1\n",
      "[12, 4, 7, 1, 0] 0.21500000000000008\n",
      "[12, 4, 7, 1, 2] 0.20499999999999985\n",
      "[12, 4, 7, 1, 3] 0.19999999999999996\n",
      "[12, 4, 7, 1, 5] 0.19499999999999995\n",
      "[12, 4, 7, 1, 6] 0.18499999999999994\n",
      "[12, 4, 7, 1, 8] 0.20000000000000007\n",
      "[12, 4, 7, 1, 9] 0.19999999999999996\n",
      "[12, 4, 7, 1, 10] 0.19000000000000006\n",
      "[12, 4, 7, 1, 11] 0.18500000000000016\n",
      "6\n",
      "[12, 4, 7, 1, 6, 0] 0.20499999999999996\n",
      "[12, 4, 7, 1, 6, 2] 0.20999999999999996\n",
      "[12, 4, 7, 1, 6, 3] 0.18999999999999984\n",
      "[12, 4, 7, 1, 6, 5] 0.19499999999999995\n",
      "[12, 4, 7, 1, 6, 8] 0.20999999999999996\n",
      "[12, 4, 7, 1, 6, 9] 0.19000000000000006\n",
      "[12, 4, 7, 1, 6, 10] 0.19499999999999995\n",
      "[12, 4, 7, 1, 6, 11] 0.19499999999999995\n",
      "3\n",
      "[12, 4, 7, 1, 6, 3, 0] 0.21000000000000008\n",
      "[12, 4, 7, 1, 6, 3, 2] 0.19500000000000006\n",
      "[12, 4, 7, 1, 6, 3, 5] 0.19499999999999995\n",
      "[12, 4, 7, 1, 6, 3, 8] 0.20999999999999996\n",
      "[12, 4, 7, 1, 6, 3, 9] 0.20500000000000007\n",
      "[12, 4, 7, 1, 6, 3, 10] 0.19000000000000006\n",
      "[12, 4, 7, 1, 6, 3, 11] 0.17500000000000004\n",
      "11\n",
      "[0] 0.38\n",
      "[1] 0.365\n",
      "[2] 0.265\n",
      "[3] 0.4099999999999999\n",
      "[4] 0.44999999999999996\n",
      "[5] 0.48\n",
      "[6] 0.3949999999999999\n",
      "[7] 0.32499999999999996\n",
      "[8] 0.30500000000000005\n",
      "[9] 0.31500000000000006\n",
      "[10] 0.275\n",
      "[11] 0.29000000000000004\n",
      "[12] 0.24\n",
      "12\n",
      "[12, 0] 0.24\n",
      "[12, 1] 0.33000000000000007\n",
      "[12, 2] 0.30000000000000004\n",
      "[12, 3] 0.245\n",
      "[12, 4] 0.235\n",
      "[12, 5] 0.24\n",
      "[12, 6] 0.32000000000000006\n",
      "[12, 7] 0.24\n",
      "[12, 8] 0.30500000000000005\n",
      "[12, 9] 0.27000000000000013\n",
      "[12, 10] 0.29000000000000004\n",
      "[12, 11] 0.27500000000000013\n",
      "4\n",
      "[12, 4, 0] 0.2550000000000001\n",
      "[12, 4, 1] 0.32000000000000006\n",
      "[12, 4, 2] 0.29500000000000004\n",
      "[12, 4, 3] 0.24\n",
      "[12, 4, 5] 0.235\n",
      "[12, 4, 6] 0.355\n",
      "[12, 4, 7] 0.2300000000000001\n",
      "[12, 4, 8] 0.30999999999999994\n",
      "[12, 4, 9] 0.275\n",
      "[12, 4, 10] 0.2849999999999999\n",
      "[12, 4, 11] 0.29000000000000004\n",
      "7\n",
      "[12, 4, 7, 0] 0.24\n",
      "[12, 4, 7, 1] 0.19499999999999995\n",
      "[12, 4, 7, 2] 0.22499999999999998\n",
      "[12, 4, 7, 3] 0.2450000000000001\n",
      "[12, 4, 7, 5] 0.24\n",
      "[12, 4, 7, 6] 0.22999999999999998\n",
      "[12, 4, 7, 8] 0.24\n",
      "[12, 4, 7, 9] 0.22499999999999998\n",
      "[12, 4, 7, 10] 0.24\n",
      "[12, 4, 7, 11] 0.20999999999999996\n",
      "1\n",
      "[12, 4, 7, 1, 0] 0.21500000000000008\n",
      "[12, 4, 7, 1, 2] 0.20499999999999985\n",
      "[12, 4, 7, 1, 3] 0.19999999999999996\n",
      "[12, 4, 7, 1, 5] 0.19499999999999995\n",
      "[12, 4, 7, 1, 6] 0.18499999999999994\n",
      "[12, 4, 7, 1, 8] 0.20000000000000007\n",
      "[12, 4, 7, 1, 9] 0.19999999999999996\n",
      "[12, 4, 7, 1, 10] 0.19000000000000006\n",
      "[12, 4, 7, 1, 11] 0.18500000000000016\n",
      "6\n",
      "[12, 4, 7, 1, 6, 0] 0.20499999999999996\n",
      "[12, 4, 7, 1, 6, 2] 0.20999999999999996\n",
      "[12, 4, 7, 1, 6, 3] 0.18999999999999984\n",
      "[12, 4, 7, 1, 6, 5] 0.19499999999999995\n",
      "[12, 4, 7, 1, 6, 8] 0.20999999999999996\n",
      "[12, 4, 7, 1, 6, 9] 0.19000000000000006\n",
      "[12, 4, 7, 1, 6, 10] 0.19499999999999995\n",
      "[12, 4, 7, 1, 6, 11] 0.19499999999999995\n",
      "3\n",
      "[12, 4, 7, 1, 6, 3, 0] 0.21000000000000008\n",
      "[12, 4, 7, 1, 6, 3, 2] 0.19500000000000006\n",
      "[12, 4, 7, 1, 6, 3, 5] 0.19499999999999995\n",
      "[12, 4, 7, 1, 6, 3, 8] 0.20999999999999996\n",
      "[12, 4, 7, 1, 6, 3, 9] 0.20500000000000007\n",
      "[12, 4, 7, 1, 6, 3, 10] 0.19000000000000006\n",
      "[12, 4, 7, 1, 6, 3, 11] 0.17500000000000004\n",
      "11\n",
      "[12, 4, 7, 1, 6, 3, 11, 0] 0.17500000000000004\n",
      "[12, 4, 7, 1, 6, 3, 11, 2] 0.16500000000000004\n",
      "[12, 4, 7, 1, 6, 3, 11, 5] 0.19000000000000006\n",
      "[12, 4, 7, 1, 6, 3, 11, 8] 0.20500000000000007\n",
      "[12, 4, 7, 1, 6, 3, 11, 9] 0.18000000000000005\n",
      "[12, 4, 7, 1, 6, 3, 11, 10] 0.19000000000000006\n",
      "2\n",
      "[0] 0.38\n",
      "[1] 0.365\n",
      "[2] 0.265\n",
      "[3] 0.4099999999999999\n",
      "[4] 0.44999999999999996\n",
      "[5] 0.48\n",
      "[6] 0.3949999999999999\n",
      "[7] 0.32499999999999996\n",
      "[8] 0.30500000000000005\n",
      "[9] 0.31500000000000006\n",
      "[10] 0.275\n",
      "[11] 0.29000000000000004\n",
      "[12] 0.24\n",
      "12\n",
      "[12, 0] 0.24\n",
      "[12, 1] 0.33000000000000007\n",
      "[12, 2] 0.30000000000000004\n",
      "[12, 3] 0.245\n",
      "[12, 4] 0.235\n",
      "[12, 5] 0.24\n",
      "[12, 6] 0.32000000000000006\n",
      "[12, 7] 0.24\n",
      "[12, 8] 0.30500000000000005\n",
      "[12, 9] 0.27000000000000013\n",
      "[12, 10] 0.29000000000000004\n",
      "[12, 11] 0.27500000000000013\n",
      "4\n",
      "[12, 4, 0] 0.2550000000000001\n",
      "[12, 4, 1] 0.32000000000000006\n",
      "[12, 4, 2] 0.29500000000000004\n",
      "[12, 4, 3] 0.24\n",
      "[12, 4, 5] 0.235\n",
      "[12, 4, 6] 0.355\n",
      "[12, 4, 7] 0.2300000000000001\n",
      "[12, 4, 8] 0.30999999999999994\n",
      "[12, 4, 9] 0.275\n",
      "[12, 4, 10] 0.2849999999999999\n",
      "[12, 4, 11] 0.29000000000000004\n",
      "7\n",
      "[12, 4, 7, 0] 0.24\n",
      "[12, 4, 7, 1] 0.19499999999999995\n",
      "[12, 4, 7, 2] 0.22499999999999998\n",
      "[12, 4, 7, 3] 0.2450000000000001\n",
      "[12, 4, 7, 5] 0.24\n",
      "[12, 4, 7, 6] 0.22999999999999998\n",
      "[12, 4, 7, 8] 0.24\n",
      "[12, 4, 7, 9] 0.22499999999999998\n",
      "[12, 4, 7, 10] 0.24\n",
      "[12, 4, 7, 11] 0.20999999999999996\n",
      "1\n",
      "[12, 4, 7, 1, 0] 0.21500000000000008\n",
      "[12, 4, 7, 1, 2] 0.20499999999999985\n",
      "[12, 4, 7, 1, 3] 0.19999999999999996\n",
      "[12, 4, 7, 1, 5] 0.19499999999999995\n",
      "[12, 4, 7, 1, 6] 0.18499999999999994\n",
      "[12, 4, 7, 1, 8] 0.20000000000000007\n",
      "[12, 4, 7, 1, 9] 0.19999999999999996\n",
      "[12, 4, 7, 1, 10] 0.19000000000000006\n",
      "[12, 4, 7, 1, 11] 0.18500000000000016\n",
      "6\n",
      "[12, 4, 7, 1, 6, 0] 0.20499999999999996\n",
      "[12, 4, 7, 1, 6, 2] 0.20999999999999996\n",
      "[12, 4, 7, 1, 6, 3] 0.18999999999999984\n",
      "[12, 4, 7, 1, 6, 5] 0.19499999999999995\n",
      "[12, 4, 7, 1, 6, 8] 0.20999999999999996\n",
      "[12, 4, 7, 1, 6, 9] 0.19000000000000006\n",
      "[12, 4, 7, 1, 6, 10] 0.19499999999999995\n",
      "[12, 4, 7, 1, 6, 11] 0.19499999999999995\n",
      "3\n",
      "[12, 4, 7, 1, 6, 3, 0] 0.21000000000000008\n",
      "[12, 4, 7, 1, 6, 3, 2] 0.19500000000000006\n",
      "[12, 4, 7, 1, 6, 3, 5] 0.19499999999999995\n",
      "[12, 4, 7, 1, 6, 3, 8] 0.20999999999999996\n",
      "[12, 4, 7, 1, 6, 3, 9] 0.20500000000000007\n",
      "[12, 4, 7, 1, 6, 3, 10] 0.19000000000000006\n",
      "[12, 4, 7, 1, 6, 3, 11] 0.17500000000000004\n",
      "11\n",
      "[12, 4, 7, 1, 6, 3, 11, 0] 0.17500000000000004\n",
      "[12, 4, 7, 1, 6, 3, 11, 2] 0.16500000000000004\n",
      "[12, 4, 7, 1, 6, 3, 11, 5] 0.19000000000000006\n",
      "[12, 4, 7, 1, 6, 3, 11, 8] 0.20500000000000007\n",
      "[12, 4, 7, 1, 6, 3, 11, 9] 0.18000000000000005\n",
      "[12, 4, 7, 1, 6, 3, 11, 10] 0.19000000000000006\n",
      "2\n",
      "[12, 4, 7, 1, 6, 3, 11, 2, 0] 0.16500000000000004\n",
      "[12, 4, 7, 1, 6, 3, 11, 2, 5] 0.16500000000000004\n",
      "[12, 4, 7, 1, 6, 3, 11, 2, 8] 0.17500000000000004\n",
      "[12, 4, 7, 1, 6, 3, 11, 2, 9] 0.15499999999999992\n",
      "[12, 4, 7, 1, 6, 3, 11, 2, 10] 0.15500000000000003\n",
      "9\n",
      "[0] 0.38\n",
      "[1] 0.365\n",
      "[2] 0.265\n",
      "[3] 0.4099999999999999\n",
      "[4] 0.44999999999999996\n",
      "[5] 0.48\n",
      "[6] 0.3949999999999999\n",
      "[7] 0.32499999999999996\n",
      "[8] 0.30500000000000005\n",
      "[9] 0.31500000000000006\n",
      "[10] 0.275\n",
      "[11] 0.29000000000000004\n",
      "[12] 0.24\n",
      "12\n",
      "[12, 0] 0.24\n",
      "[12, 1] 0.33000000000000007\n",
      "[12, 2] 0.30000000000000004\n",
      "[12, 3] 0.245\n",
      "[12, 4] 0.235\n",
      "[12, 5] 0.24\n",
      "[12, 6] 0.32000000000000006\n",
      "[12, 7] 0.24\n",
      "[12, 8] 0.30500000000000005\n",
      "[12, 9] 0.27000000000000013\n",
      "[12, 10] 0.29000000000000004\n",
      "[12, 11] 0.27500000000000013\n",
      "4\n",
      "[12, 4, 0] 0.2550000000000001\n",
      "[12, 4, 1] 0.32000000000000006\n",
      "[12, 4, 2] 0.29500000000000004\n",
      "[12, 4, 3] 0.24\n",
      "[12, 4, 5] 0.235\n",
      "[12, 4, 6] 0.355\n",
      "[12, 4, 7] 0.2300000000000001\n",
      "[12, 4, 8] 0.30999999999999994\n",
      "[12, 4, 9] 0.275\n",
      "[12, 4, 10] 0.2849999999999999\n",
      "[12, 4, 11] 0.29000000000000004\n",
      "7\n",
      "[12, 4, 7, 0] 0.24\n",
      "[12, 4, 7, 1] 0.19499999999999995\n",
      "[12, 4, 7, 2] 0.22499999999999998\n",
      "[12, 4, 7, 3] 0.2450000000000001\n",
      "[12, 4, 7, 5] 0.24\n",
      "[12, 4, 7, 6] 0.22999999999999998\n",
      "[12, 4, 7, 8] 0.24\n",
      "[12, 4, 7, 9] 0.22499999999999998\n",
      "[12, 4, 7, 10] 0.24\n",
      "[12, 4, 7, 11] 0.20999999999999996\n",
      "1\n",
      "[12, 4, 7, 1, 0] 0.21500000000000008\n",
      "[12, 4, 7, 1, 2] 0.20499999999999985\n",
      "[12, 4, 7, 1, 3] 0.19999999999999996\n",
      "[12, 4, 7, 1, 5] 0.19499999999999995\n",
      "[12, 4, 7, 1, 6] 0.18499999999999994\n",
      "[12, 4, 7, 1, 8] 0.20000000000000007\n",
      "[12, 4, 7, 1, 9] 0.19999999999999996\n",
      "[12, 4, 7, 1, 10] 0.19000000000000006\n",
      "[12, 4, 7, 1, 11] 0.18500000000000016\n",
      "6\n",
      "[12, 4, 7, 1, 6, 0] 0.20499999999999996\n",
      "[12, 4, 7, 1, 6, 2] 0.20999999999999996\n",
      "[12, 4, 7, 1, 6, 3] 0.18999999999999984\n",
      "[12, 4, 7, 1, 6, 5] 0.19499999999999995\n",
      "[12, 4, 7, 1, 6, 8] 0.20999999999999996\n",
      "[12, 4, 7, 1, 6, 9] 0.19000000000000006\n",
      "[12, 4, 7, 1, 6, 10] 0.19499999999999995\n",
      "[12, 4, 7, 1, 6, 11] 0.19499999999999995\n",
      "3\n",
      "[12, 4, 7, 1, 6, 3, 0] 0.21000000000000008\n",
      "[12, 4, 7, 1, 6, 3, 2] 0.19500000000000006\n",
      "[12, 4, 7, 1, 6, 3, 5] 0.19499999999999995\n",
      "[12, 4, 7, 1, 6, 3, 8] 0.20999999999999996\n",
      "[12, 4, 7, 1, 6, 3, 9] 0.20500000000000007\n",
      "[12, 4, 7, 1, 6, 3, 10] 0.19000000000000006\n",
      "[12, 4, 7, 1, 6, 3, 11] 0.17500000000000004\n",
      "11\n",
      "[12, 4, 7, 1, 6, 3, 11, 0] 0.17500000000000004\n",
      "[12, 4, 7, 1, 6, 3, 11, 2] 0.16500000000000004\n",
      "[12, 4, 7, 1, 6, 3, 11, 5] 0.19000000000000006\n",
      "[12, 4, 7, 1, 6, 3, 11, 8] 0.20500000000000007\n",
      "[12, 4, 7, 1, 6, 3, 11, 9] 0.18000000000000005\n",
      "[12, 4, 7, 1, 6, 3, 11, 10] 0.19000000000000006\n",
      "2\n",
      "[12, 4, 7, 1, 6, 3, 11, 2, 0] 0.16500000000000004\n",
      "[12, 4, 7, 1, 6, 3, 11, 2, 5] 0.16500000000000004\n",
      "[12, 4, 7, 1, 6, 3, 11, 2, 8] 0.17500000000000004\n",
      "[12, 4, 7, 1, 6, 3, 11, 2, 9] 0.15499999999999992\n",
      "[12, 4, 7, 1, 6, 3, 11, 2, 10] 0.15500000000000003\n",
      "9\n",
      "[12, 4, 7, 1, 6, 3, 11, 2, 9, 0] 0.15999999999999992\n",
      "[12, 4, 7, 1, 6, 3, 11, 2, 9, 5] 0.15499999999999992\n",
      "[12, 4, 7, 1, 6, 3, 11, 2, 9, 8] 0.15499999999999992\n",
      "[12, 4, 7, 1, 6, 3, 11, 2, 9, 10] 0.1299999999999999\n",
      "10\n",
      "[0] 0.38\n",
      "[1] 0.365\n",
      "[2] 0.265\n",
      "[3] 0.4099999999999999\n",
      "[4] 0.44999999999999996\n",
      "[5] 0.48\n",
      "[6] 0.3949999999999999\n",
      "[7] 0.32499999999999996\n",
      "[8] 0.30500000000000005\n",
      "[9] 0.31500000000000006\n",
      "[10] 0.275\n",
      "[11] 0.29000000000000004\n",
      "[12] 0.24\n",
      "12\n",
      "[12, 0] 0.24\n",
      "[12, 1] 0.33000000000000007\n",
      "[12, 2] 0.30000000000000004\n",
      "[12, 3] 0.245\n",
      "[12, 4] 0.235\n",
      "[12, 5] 0.24\n",
      "[12, 6] 0.32000000000000006\n",
      "[12, 7] 0.24\n",
      "[12, 8] 0.30500000000000005\n",
      "[12, 9] 0.27000000000000013\n",
      "[12, 10] 0.29000000000000004\n",
      "[12, 11] 0.27500000000000013\n",
      "4\n",
      "[12, 4, 0] 0.2550000000000001\n",
      "[12, 4, 1] 0.32000000000000006\n",
      "[12, 4, 2] 0.29500000000000004\n",
      "[12, 4, 3] 0.24\n",
      "[12, 4, 5] 0.235\n",
      "[12, 4, 6] 0.355\n",
      "[12, 4, 7] 0.2300000000000001\n",
      "[12, 4, 8] 0.30999999999999994\n",
      "[12, 4, 9] 0.275\n",
      "[12, 4, 10] 0.2849999999999999\n",
      "[12, 4, 11] 0.29000000000000004\n",
      "7\n",
      "[12, 4, 7, 0] 0.24\n",
      "[12, 4, 7, 1] 0.19499999999999995\n",
      "[12, 4, 7, 2] 0.22499999999999998\n",
      "[12, 4, 7, 3] 0.2450000000000001\n",
      "[12, 4, 7, 5] 0.24\n",
      "[12, 4, 7, 6] 0.22999999999999998\n",
      "[12, 4, 7, 8] 0.24\n",
      "[12, 4, 7, 9] 0.22499999999999998\n",
      "[12, 4, 7, 10] 0.24\n",
      "[12, 4, 7, 11] 0.20999999999999996\n",
      "1\n",
      "[12, 4, 7, 1, 0] 0.21500000000000008\n",
      "[12, 4, 7, 1, 2] 0.20499999999999985\n",
      "[12, 4, 7, 1, 3] 0.19999999999999996\n",
      "[12, 4, 7, 1, 5] 0.19499999999999995\n",
      "[12, 4, 7, 1, 6] 0.18499999999999994\n",
      "[12, 4, 7, 1, 8] 0.20000000000000007\n",
      "[12, 4, 7, 1, 9] 0.19999999999999996\n",
      "[12, 4, 7, 1, 10] 0.19000000000000006\n",
      "[12, 4, 7, 1, 11] 0.18500000000000016\n",
      "6\n",
      "[12, 4, 7, 1, 6, 0] 0.20499999999999996\n",
      "[12, 4, 7, 1, 6, 2] 0.20999999999999996\n",
      "[12, 4, 7, 1, 6, 3] 0.18999999999999984\n",
      "[12, 4, 7, 1, 6, 5] 0.19499999999999995\n",
      "[12, 4, 7, 1, 6, 8] 0.20999999999999996\n",
      "[12, 4, 7, 1, 6, 9] 0.19000000000000006\n",
      "[12, 4, 7, 1, 6, 10] 0.19499999999999995\n",
      "[12, 4, 7, 1, 6, 11] 0.19499999999999995\n",
      "3\n",
      "[12, 4, 7, 1, 6, 3, 0] 0.21000000000000008\n",
      "[12, 4, 7, 1, 6, 3, 2] 0.19500000000000006\n",
      "[12, 4, 7, 1, 6, 3, 5] 0.19499999999999995\n",
      "[12, 4, 7, 1, 6, 3, 8] 0.20999999999999996\n",
      "[12, 4, 7, 1, 6, 3, 9] 0.20500000000000007\n",
      "[12, 4, 7, 1, 6, 3, 10] 0.19000000000000006\n",
      "[12, 4, 7, 1, 6, 3, 11] 0.17500000000000004\n",
      "11\n",
      "[12, 4, 7, 1, 6, 3, 11, 0] 0.17500000000000004\n",
      "[12, 4, 7, 1, 6, 3, 11, 2] 0.16500000000000004\n",
      "[12, 4, 7, 1, 6, 3, 11, 5] 0.19000000000000006\n",
      "[12, 4, 7, 1, 6, 3, 11, 8] 0.20500000000000007\n",
      "[12, 4, 7, 1, 6, 3, 11, 9] 0.18000000000000005\n",
      "[12, 4, 7, 1, 6, 3, 11, 10] 0.19000000000000006\n",
      "2\n",
      "[12, 4, 7, 1, 6, 3, 11, 2, 0] 0.16500000000000004\n",
      "[12, 4, 7, 1, 6, 3, 11, 2, 5] 0.16500000000000004\n",
      "[12, 4, 7, 1, 6, 3, 11, 2, 8] 0.17500000000000004\n",
      "[12, 4, 7, 1, 6, 3, 11, 2, 9] 0.15499999999999992\n",
      "[12, 4, 7, 1, 6, 3, 11, 2, 10] 0.15500000000000003\n",
      "9\n",
      "[12, 4, 7, 1, 6, 3, 11, 2, 9, 0] 0.15999999999999992\n",
      "[12, 4, 7, 1, 6, 3, 11, 2, 9, 5] 0.15499999999999992\n",
      "[12, 4, 7, 1, 6, 3, 11, 2, 9, 8] 0.15499999999999992\n",
      "[12, 4, 7, 1, 6, 3, 11, 2, 9, 10] 0.1299999999999999\n",
      "10\n",
      "[12, 4, 7, 1, 6, 3, 11, 2, 9, 10, 0] 0.14500000000000013\n",
      "[12, 4, 7, 1, 6, 3, 11, 2, 9, 10, 5] 0.1299999999999999\n",
      "[12, 4, 7, 1, 6, 3, 11, 2, 9, 10, 8] 0.15999999999999992\n",
      "5\n",
      "[0] 0.38\n",
      "[1] 0.365\n",
      "[2] 0.265\n",
      "[3] 0.4099999999999999\n",
      "[4] 0.44999999999999996\n",
      "[5] 0.48\n",
      "[6] 0.3949999999999999\n",
      "[7] 0.32499999999999996\n",
      "[8] 0.30500000000000005\n",
      "[9] 0.31500000000000006\n",
      "[10] 0.275\n",
      "[11] 0.29000000000000004\n",
      "[12] 0.24\n",
      "12\n",
      "[12, 0] 0.24\n",
      "[12, 1] 0.33000000000000007\n",
      "[12, 2] 0.30000000000000004\n",
      "[12, 3] 0.245\n",
      "[12, 4] 0.235\n",
      "[12, 5] 0.24\n",
      "[12, 6] 0.32000000000000006\n",
      "[12, 7] 0.24\n",
      "[12, 8] 0.30500000000000005\n",
      "[12, 9] 0.27000000000000013\n",
      "[12, 10] 0.29000000000000004\n",
      "[12, 11] 0.27500000000000013\n",
      "4\n",
      "[12, 4, 0] 0.2550000000000001\n",
      "[12, 4, 1] 0.32000000000000006\n",
      "[12, 4, 2] 0.29500000000000004\n",
      "[12, 4, 3] 0.24\n",
      "[12, 4, 5] 0.235\n",
      "[12, 4, 6] 0.355\n",
      "[12, 4, 7] 0.2300000000000001\n",
      "[12, 4, 8] 0.30999999999999994\n",
      "[12, 4, 9] 0.275\n",
      "[12, 4, 10] 0.2849999999999999\n",
      "[12, 4, 11] 0.29000000000000004\n",
      "7\n",
      "[12, 4, 7, 0] 0.24\n",
      "[12, 4, 7, 1] 0.19499999999999995\n",
      "[12, 4, 7, 2] 0.22499999999999998\n",
      "[12, 4, 7, 3] 0.2450000000000001\n",
      "[12, 4, 7, 5] 0.24\n",
      "[12, 4, 7, 6] 0.22999999999999998\n",
      "[12, 4, 7, 8] 0.24\n",
      "[12, 4, 7, 9] 0.22499999999999998\n",
      "[12, 4, 7, 10] 0.24\n",
      "[12, 4, 7, 11] 0.20999999999999996\n",
      "1\n",
      "[12, 4, 7, 1, 0] 0.21500000000000008\n",
      "[12, 4, 7, 1, 2] 0.20499999999999985\n",
      "[12, 4, 7, 1, 3] 0.19999999999999996\n",
      "[12, 4, 7, 1, 5] 0.19499999999999995\n",
      "[12, 4, 7, 1, 6] 0.18499999999999994\n",
      "[12, 4, 7, 1, 8] 0.20000000000000007\n",
      "[12, 4, 7, 1, 9] 0.19999999999999996\n",
      "[12, 4, 7, 1, 10] 0.19000000000000006\n",
      "[12, 4, 7, 1, 11] 0.18500000000000016\n",
      "6\n",
      "[12, 4, 7, 1, 6, 0] 0.20499999999999996\n",
      "[12, 4, 7, 1, 6, 2] 0.20999999999999996\n",
      "[12, 4, 7, 1, 6, 3] 0.18999999999999984\n",
      "[12, 4, 7, 1, 6, 5] 0.19499999999999995\n",
      "[12, 4, 7, 1, 6, 8] 0.20999999999999996\n",
      "[12, 4, 7, 1, 6, 9] 0.19000000000000006\n",
      "[12, 4, 7, 1, 6, 10] 0.19499999999999995\n",
      "[12, 4, 7, 1, 6, 11] 0.19499999999999995\n",
      "3\n",
      "[12, 4, 7, 1, 6, 3, 0] 0.21000000000000008\n",
      "[12, 4, 7, 1, 6, 3, 2] 0.19500000000000006\n",
      "[12, 4, 7, 1, 6, 3, 5] 0.19499999999999995\n",
      "[12, 4, 7, 1, 6, 3, 8] 0.20999999999999996\n",
      "[12, 4, 7, 1, 6, 3, 9] 0.20500000000000007\n",
      "[12, 4, 7, 1, 6, 3, 10] 0.19000000000000006\n",
      "[12, 4, 7, 1, 6, 3, 11] 0.17500000000000004\n",
      "11\n",
      "[12, 4, 7, 1, 6, 3, 11, 0] 0.17500000000000004\n",
      "[12, 4, 7, 1, 6, 3, 11, 2] 0.16500000000000004\n",
      "[12, 4, 7, 1, 6, 3, 11, 5] 0.19000000000000006\n",
      "[12, 4, 7, 1, 6, 3, 11, 8] 0.20500000000000007\n",
      "[12, 4, 7, 1, 6, 3, 11, 9] 0.18000000000000005\n",
      "[12, 4, 7, 1, 6, 3, 11, 10] 0.19000000000000006\n",
      "2\n",
      "[12, 4, 7, 1, 6, 3, 11, 2, 0] 0.16500000000000004\n",
      "[12, 4, 7, 1, 6, 3, 11, 2, 5] 0.16500000000000004\n",
      "[12, 4, 7, 1, 6, 3, 11, 2, 8] 0.17500000000000004\n",
      "[12, 4, 7, 1, 6, 3, 11, 2, 9] 0.15499999999999992\n",
      "[12, 4, 7, 1, 6, 3, 11, 2, 10] 0.15500000000000003\n",
      "9\n",
      "[12, 4, 7, 1, 6, 3, 11, 2, 9, 0] 0.15999999999999992\n",
      "[12, 4, 7, 1, 6, 3, 11, 2, 9, 5] 0.15499999999999992\n",
      "[12, 4, 7, 1, 6, 3, 11, 2, 9, 8] 0.15499999999999992\n",
      "[12, 4, 7, 1, 6, 3, 11, 2, 9, 10] 0.1299999999999999\n",
      "10\n",
      "[12, 4, 7, 1, 6, 3, 11, 2, 9, 10, 0] 0.14500000000000013\n",
      "[12, 4, 7, 1, 6, 3, 11, 2, 9, 10, 5] 0.1299999999999999\n",
      "[12, 4, 7, 1, 6, 3, 11, 2, 9, 10, 8] 0.15999999999999992\n",
      "5\n",
      "[12, 4, 7, 1, 6, 3, 11, 2, 9, 10, 5, 0] 0.14500000000000013\n",
      "[12, 4, 7, 1, 6, 3, 11, 2, 9, 10, 5, 8] 0.15500000000000003\n",
      "0\n",
      "[0] 0.38\n",
      "[1] 0.365\n",
      "[2] 0.265\n",
      "[3] 0.4099999999999999\n",
      "[4] 0.44999999999999996\n",
      "[5] 0.48\n",
      "[6] 0.3949999999999999\n",
      "[7] 0.32499999999999996\n",
      "[8] 0.30500000000000005\n",
      "[9] 0.31500000000000006\n",
      "[10] 0.275\n",
      "[11] 0.29000000000000004\n",
      "[12] 0.24\n",
      "12\n",
      "[12, 0] 0.24\n",
      "[12, 1] 0.33000000000000007\n",
      "[12, 2] 0.30000000000000004\n",
      "[12, 3] 0.245\n",
      "[12, 4] 0.235\n",
      "[12, 5] 0.24\n",
      "[12, 6] 0.32000000000000006\n",
      "[12, 7] 0.24\n",
      "[12, 8] 0.30500000000000005\n",
      "[12, 9] 0.27000000000000013\n",
      "[12, 10] 0.29000000000000004\n",
      "[12, 11] 0.27500000000000013\n",
      "4\n",
      "[12, 4, 0] 0.2550000000000001\n",
      "[12, 4, 1] 0.32000000000000006\n",
      "[12, 4, 2] 0.29500000000000004\n",
      "[12, 4, 3] 0.24\n",
      "[12, 4, 5] 0.235\n",
      "[12, 4, 6] 0.355\n",
      "[12, 4, 7] 0.2300000000000001\n",
      "[12, 4, 8] 0.30999999999999994\n",
      "[12, 4, 9] 0.275\n",
      "[12, 4, 10] 0.2849999999999999\n",
      "[12, 4, 11] 0.29000000000000004\n",
      "7\n",
      "[12, 4, 7, 0] 0.24\n",
      "[12, 4, 7, 1] 0.19499999999999995\n",
      "[12, 4, 7, 2] 0.22499999999999998\n",
      "[12, 4, 7, 3] 0.2450000000000001\n",
      "[12, 4, 7, 5] 0.24\n",
      "[12, 4, 7, 6] 0.22999999999999998\n",
      "[12, 4, 7, 8] 0.24\n",
      "[12, 4, 7, 9] 0.22499999999999998\n",
      "[12, 4, 7, 10] 0.24\n",
      "[12, 4, 7, 11] 0.20999999999999996\n",
      "1\n",
      "[12, 4, 7, 1, 0] 0.21500000000000008\n",
      "[12, 4, 7, 1, 2] 0.20499999999999985\n",
      "[12, 4, 7, 1, 3] 0.19999999999999996\n",
      "[12, 4, 7, 1, 5] 0.19499999999999995\n",
      "[12, 4, 7, 1, 6] 0.18499999999999994\n",
      "[12, 4, 7, 1, 8] 0.20000000000000007\n",
      "[12, 4, 7, 1, 9] 0.19999999999999996\n",
      "[12, 4, 7, 1, 10] 0.19000000000000006\n",
      "[12, 4, 7, 1, 11] 0.18500000000000016\n",
      "6\n",
      "[12, 4, 7, 1, 6, 0] 0.20499999999999996\n",
      "[12, 4, 7, 1, 6, 2] 0.20999999999999996\n",
      "[12, 4, 7, 1, 6, 3] 0.18999999999999984\n",
      "[12, 4, 7, 1, 6, 5] 0.19499999999999995\n",
      "[12, 4, 7, 1, 6, 8] 0.20999999999999996\n",
      "[12, 4, 7, 1, 6, 9] 0.19000000000000006\n",
      "[12, 4, 7, 1, 6, 10] 0.19499999999999995\n",
      "[12, 4, 7, 1, 6, 11] 0.19499999999999995\n",
      "3\n",
      "[12, 4, 7, 1, 6, 3, 0] 0.21000000000000008\n",
      "[12, 4, 7, 1, 6, 3, 2] 0.19500000000000006\n",
      "[12, 4, 7, 1, 6, 3, 5] 0.19499999999999995\n",
      "[12, 4, 7, 1, 6, 3, 8] 0.20999999999999996\n",
      "[12, 4, 7, 1, 6, 3, 9] 0.20500000000000007\n",
      "[12, 4, 7, 1, 6, 3, 10] 0.19000000000000006\n",
      "[12, 4, 7, 1, 6, 3, 11] 0.17500000000000004\n",
      "11\n",
      "[12, 4, 7, 1, 6, 3, 11, 0] 0.17500000000000004\n",
      "[12, 4, 7, 1, 6, 3, 11, 2] 0.16500000000000004\n",
      "[12, 4, 7, 1, 6, 3, 11, 5] 0.19000000000000006\n",
      "[12, 4, 7, 1, 6, 3, 11, 8] 0.20500000000000007\n",
      "[12, 4, 7, 1, 6, 3, 11, 9] 0.18000000000000005\n",
      "[12, 4, 7, 1, 6, 3, 11, 10] 0.19000000000000006\n",
      "2\n",
      "[12, 4, 7, 1, 6, 3, 11, 2, 0] 0.16500000000000004\n",
      "[12, 4, 7, 1, 6, 3, 11, 2, 5] 0.16500000000000004\n",
      "[12, 4, 7, 1, 6, 3, 11, 2, 8] 0.17500000000000004\n",
      "[12, 4, 7, 1, 6, 3, 11, 2, 9] 0.15499999999999992\n",
      "[12, 4, 7, 1, 6, 3, 11, 2, 10] 0.15500000000000003\n",
      "9\n",
      "[12, 4, 7, 1, 6, 3, 11, 2, 9, 0] 0.15999999999999992\n",
      "[12, 4, 7, 1, 6, 3, 11, 2, 9, 5] 0.15499999999999992\n",
      "[12, 4, 7, 1, 6, 3, 11, 2, 9, 8] 0.15499999999999992\n",
      "[12, 4, 7, 1, 6, 3, 11, 2, 9, 10] 0.1299999999999999\n",
      "10\n",
      "[12, 4, 7, 1, 6, 3, 11, 2, 9, 10, 0] 0.14500000000000013\n",
      "[12, 4, 7, 1, 6, 3, 11, 2, 9, 10, 5] 0.1299999999999999\n",
      "[12, 4, 7, 1, 6, 3, 11, 2, 9, 10, 8] 0.15999999999999992\n",
      "5\n",
      "[12, 4, 7, 1, 6, 3, 11, 2, 9, 10, 5, 0] 0.14500000000000013\n",
      "[12, 4, 7, 1, 6, 3, 11, 2, 9, 10, 5, 8] 0.15500000000000003\n",
      "0\n",
      "[12, 4, 7, 1, 6, 3, 11, 2, 9, 10, 5, 0, 8] 0.15000000000000002\n",
      "8\n"
     ]
    }
   ],
   "source": [
    "features=[]\n",
    "validation_error=[]\n",
    "test_error=[]\n",
    "for k in range(1,14):\n",
    "    a,b,c = sds(x2_train,y2_train,x2_test, y2_test,k)\n",
    "    features.append(a)\n",
    "    validation_error.append(b)\n",
    "    test_error.append(c)\n"
   ]
  },
  {
   "cell_type": "code",
   "execution_count": 77,
   "metadata": {},
   "outputs": [
    {
     "data": {
      "text/plain": [
       "[[12],\n",
       " [12, 4],\n",
       " [12, 4, 7],\n",
       " [12, 4, 7, 1],\n",
       " [12, 4, 7, 1, 6],\n",
       " [12, 4, 7, 1, 6, 3],\n",
       " [12, 4, 7, 1, 6, 3, 11],\n",
       " [12, 4, 7, 1, 6, 3, 11, 2],\n",
       " [12, 4, 7, 1, 6, 3, 11, 2, 9],\n",
       " [12, 4, 7, 1, 6, 3, 11, 2, 9, 10],\n",
       " [12, 4, 7, 1, 6, 3, 11, 2, 9, 10, 5],\n",
       " [12, 4, 7, 1, 6, 3, 11, 2, 9, 10, 5, 0],\n",
       " [12, 4, 7, 1, 6, 3, 11, 2, 9, 10, 5, 0, 8]]"
      ]
     },
     "execution_count": 77,
     "metadata": {},
     "output_type": "execute_result"
    }
   ],
   "source": [
    "features"
   ]
  },
  {
   "cell_type": "code",
   "execution_count": 78,
   "metadata": {},
   "outputs": [
    {
     "data": {
      "text/plain": [
       "[0.24,\n",
       " 0.235,\n",
       " 0.2300000000000001,\n",
       " 0.19499999999999995,\n",
       " 0.18499999999999994,\n",
       " 0.18999999999999984,\n",
       " 0.17500000000000004,\n",
       " 0.16500000000000004,\n",
       " 0.15499999999999992,\n",
       " 0.1299999999999999,\n",
       " 0.1299999999999999,\n",
       " 0.14500000000000013,\n",
       " 0.15000000000000002]"
      ]
     },
     "execution_count": 78,
     "metadata": {},
     "output_type": "execute_result"
    }
   ],
   "source": [
    "validation_error"
   ]
  },
  {
   "cell_type": "code",
   "execution_count": 79,
   "metadata": {},
   "outputs": [
    {
     "data": {
      "text/plain": [
       "[0.2815533980582524,\n",
       " 0.2815533980582524,\n",
       " 0.33009708737864074,\n",
       " 0.3203883495145631,\n",
       " 0.3495145631067961,\n",
       " 0.33009708737864074,\n",
       " 0.27184466019417475,\n",
       " 0.2038834951456311,\n",
       " 0.2038834951456311,\n",
       " 0.2524271844660194,\n",
       " 0.23300970873786409,\n",
       " 0.23300970873786409,\n",
       " 0.22330097087378642]"
      ]
     },
     "execution_count": 79,
     "metadata": {},
     "output_type": "execute_result"
    }
   ],
   "source": [
    "test_error"
   ]
  },
  {
   "cell_type": "code",
   "execution_count": 80,
   "metadata": {},
   "outputs": [
    {
     "data": {
      "image/png": "[encoded data removed]",
      "text/plain": [
       "<Figure size 432x288 with 1 Axes>"
      ]
     },
     "metadata": {
      "needs_background": "light"
     },
     "output_type": "display_data"
    }
   ],
   "source": [
    "kvalue=np.arange(1,14)\n",
    "plt.xlabel('k- values')\n",
    "plt.ylabel('validation vs test error')\n",
    "plt.title('k fold step wise')\n",
    "plt.plot(kvalue,validation_error,label='validation error')\n",
    "plt.plot(kvalue,test_error,label='test error')\n",
    "plt.legend()\n",
    "plt.show()"
   ]
  },
  {
   "cell_type": "markdown",
   "metadata": {},
   "source": [
    "## 1.3 (b) What two features were chosen for k = 2? Plot the decision boundary in this case.\n",
    "--the features were 2 and 3, sex and cp when k=2. "
   ]
  },
  {
   "cell_type": "code",
   "execution_count": 81,
   "metadata": {},
   "outputs": [
    {
     "name": "stdout",
     "output_type": "stream",
     "text": [
      "[0] 0.38\n",
      "[1] 0.365\n",
      "[2] 0.265\n",
      "[3] 0.4099999999999999\n",
      "[4] 0.44999999999999996\n",
      "[5] 0.48\n",
      "[6] 0.3949999999999999\n",
      "[7] 0.32499999999999996\n",
      "[8] 0.30500000000000005\n",
      "[9] 0.31500000000000006\n",
      "[10] 0.275\n",
      "[11] 0.29000000000000004\n",
      "[12] 0.24\n",
      "12\n",
      "[12, 0] 0.24\n",
      "[12, 1] 0.33000000000000007\n",
      "[12, 2] 0.30000000000000004\n",
      "[12, 3] 0.245\n",
      "[12, 4] 0.235\n",
      "[12, 5] 0.24\n",
      "[12, 6] 0.32000000000000006\n",
      "[12, 7] 0.24\n",
      "[12, 8] 0.30500000000000005\n",
      "[12, 9] 0.27000000000000013\n",
      "[12, 10] 0.29000000000000004\n",
      "[12, 11] 0.27500000000000013\n",
      "4\n"
     ]
    },
    {
     "data": {
      "text/plain": [
       "[12, 4]"
      ]
     },
     "execution_count": 81,
     "metadata": {},
     "output_type": "execute_result"
    }
   ],
   "source": [
    "sds(x2_train,y2_train,x2_test, y2_test,2)[0]\n"
   ]
  },
  {
   "cell_type": "code",
   "execution_count": null,
   "metadata": {},
   "outputs": [],
   "source": []
  },
  {
   "cell_type": "markdown",
   "metadata": {},
   "source": [
    "## plot decision boundary\n"
   ]
  },
  {
   "cell_type": "code",
   "execution_count": 82,
   "metadata": {},
   "outputs": [
    {
     "data": {
      "image/png": "[encoded data removed]",
      "text/plain": [
       "<Figure size 288x216 with 1 Axes>"
      ]
     },
     "metadata": {},
     "output_type": "display_data"
    }
   ],
   "source": [
    "X =x2_train[:,[2,3]]\n",
    "Y= y2_train\n",
    "\n",
    "# Create an instance of Logistic Regression Classifier and fit the data.\n",
    "logreg = LogisticRegression(C=1e5)\n",
    "logreg.fit(X, Y)\n",
    "\n",
    "# Plot the decision boundary. For that, we will assign a color to each\n",
    "# point in the mesh [x_min, x_max]x[y_min, y_max].\n",
    "x_min, x_max = X[:, 0].min() - .5, X[:, 0].max() + .5\n",
    "y_min, y_max = X[:, 1].min() - .5, X[:, 1].max() + .5\n",
    "h = .02  # step size in the mesh\n",
    "xx, yy = np.meshgrid(np.arange(x_min, x_max, h), np.arange(y_min, y_max, h))\n",
    "Z = logreg.predict(np.c_[xx.ravel(), yy.ravel()])\n",
    "\n",
    "# Put the result into a color plot\n",
    "Z = Z.reshape(xx.shape)\n",
    "plt.figure(1, figsize=(4, 3))\n",
    "plt.pcolormesh(xx, yy, Z, cmap=plt.cm.Paired,shading='auto')\n",
    "\n",
    "# Plot also the training points\n",
    "plt.scatter(X[:, 0], X[:, 1], c=Y, edgecolors='k', cmap=plt.cm.Paired)\n",
    "plt.xlabel('2,3')\n",
    "plt.ylabel('3')\n",
    "\n",
    "plt.xlim(xx.min(), xx.max())\n",
    "plt.ylim(yy.min(), yy.max())\n",
    "plt.xticks(())\n",
    "plt.yticks(())\n",
    "\n",
    "plt.show()\n"
   ]
  },
  {
   "cell_type": "markdown",
   "metadata": {},
   "source": [
    "## Mini-project: Coordinate descent"
   ]
  },
  {
   "cell_type": "markdown",
   "metadata": {},
   "source": [
    "## (a) A short, high-level description of your coordinate descent method.\n",
    "## In particular, you should give a concise description of how you solve problems (i) and (ii) above. Do\n",
    "## you need the function L(·) to be differentiable, or does it work with any loss function?\n",
    "## (i) Which coordinate to choose? (ii) How to set the new value of wi?\n"
   ]
  },
  {
   "cell_type": "markdown",
   "metadata": {},
   "source": [
    "# chose the one to minimize the Wi. The cooridnate is i from 1 to k total 13 features, based on the different feature(i)\n",
    "#  choose the one minimize the lost.\n",
    "\n",
    "## how to set new value of wi\n",
    "# first d(wi) take it out, use rest of w to estimate, then add the wi back , then esitmate agian, and \n",
    "# see what the influence of wi\n",
    "# it's convex so it is differentiable. \n"
   ]
  },
  {
   "cell_type": "markdown",
   "metadata": {},
   "source": [
    "## (b) Convergence.\n",
    "## Under what conditions do you think your method converges to the optimal loss? There’s no need to\n",
    "## prove anything: just give a few sentences of brief explanation."
   ]
  },
  {
   "cell_type": "code",
   "execution_count": null,
   "metadata": {},
   "outputs": [],
   "source": [
    "## using cordinate decent, try to cyclic through the gradiant and find the optimal loss\n"
   ]
  },
  {
   "cell_type": "code",
   "execution_count": 83,
   "metadata": {},
   "outputs": [],
   "source": [
    "from sklearn.metrics import log_loss"
   ]
  },
  {
   "cell_type": "markdown",
   "metadata": {},
   "source": [
    "## (c) Experimental results."
   ]
  },
  {
   "cell_type": "code",
   "execution_count": 84,
   "metadata": {},
   "outputs": [],
   "source": [
    "x3=x2_\n",
    "y3=y2_"
   ]
  },
  {
   "cell_type": "code",
   "execution_count": 85,
   "metadata": {},
   "outputs": [],
   "source": [
    "reg =  LogisticRegression(solver='sag',max_iter = 10000).fit(x3,y3)"
   ]
  },
  {
   "cell_type": "code",
   "execution_count": 86,
   "metadata": {},
   "outputs": [
    {
     "data": {
      "text/plain": [
       "0.37123011201074485"
      ]
     },
     "execution_count": 86,
     "metadata": {},
     "output_type": "execute_result"
    }
   ],
   "source": [
    "# base loss without regulization\n",
    "base_loss = log_loss(y3,reg.predict_proba(x3))\n",
    "base_loss"
   ]
  },
  {
   "cell_type": "code",
   "execution_count": 87,
   "metadata": {},
   "outputs": [
    {
     "data": {
      "text/plain": [
       "array([[63.,  1.,  3., ...,  0.,  0.,  1.],\n",
       "       [37.,  1.,  2., ...,  0.,  0.,  2.],\n",
       "       [41.,  0.,  1., ...,  2.,  0.,  2.],\n",
       "       ...,\n",
       "       [68.,  1.,  0., ...,  1.,  2.,  3.],\n",
       "       [57.,  1.,  0., ...,  1.,  1.,  3.],\n",
       "       [57.,  0.,  1., ...,  1.,  1.,  2.]])"
      ]
     },
     "execution_count": 87,
     "metadata": {},
     "output_type": "execute_result"
    }
   ],
   "source": [
    "x3"
   ]
  },
  {
   "cell_type": "code",
   "execution_count": 88,
   "metadata": {},
   "outputs": [
    {
     "data": {
      "text/plain": [
       "(303, 13)"
      ]
     },
     "execution_count": 88,
     "metadata": {},
     "output_type": "execute_result"
    }
   ],
   "source": [
    "x3_norm=(x3-np.mean(x3,axis=0))/(np.max(x3,axis=0)-np.min(x3, axis=0))\n",
    "x3_norm.shape"
   ]
  },
  {
   "cell_type": "code",
   "execution_count": 89,
   "metadata": {},
   "outputs": [],
   "source": [
    "intercept=np.ones((x3.shape[0],1))"
   ]
  },
  {
   "cell_type": "code",
   "execution_count": 90,
   "metadata": {},
   "outputs": [
    {
     "data": {
      "text/plain": [
       "(303, 1)"
      ]
     },
     "execution_count": 90,
     "metadata": {},
     "output_type": "execute_result"
    }
   ],
   "source": [
    "intercept.shape"
   ]
  },
  {
   "cell_type": "code",
   "execution_count": 91,
   "metadata": {},
   "outputs": [],
   "source": [
    "x3_norm_=np.hstack((x3_norm,intercept))"
   ]
  },
  {
   "cell_type": "code",
   "execution_count": 92,
   "metadata": {},
   "outputs": [
    {
     "data": {
      "text/plain": [
       "(303, 14)"
      ]
     },
     "execution_count": 92,
     "metadata": {},
     "output_type": "execute_result"
    }
   ],
   "source": [
    "x3_norm_.shape"
   ]
  },
  {
   "cell_type": "code",
   "execution_count": null,
   "metadata": {},
   "outputs": [],
   "source": []
  },
  {
   "cell_type": "code",
   "execution_count": 93,
   "metadata": {},
   "outputs": [],
   "source": [
    "def coordi_descent(x, y, nbr_iterations,etha=0.01):\n",
    "    \n",
    "    w=np.zeros((x.shape[1],1))\n",
    "    digit = 0\n",
    "    loss=[]\n",
    "    for i in range(nbr_iterations):\n",
    "        current_index = digit % 13\n",
    "        y_pred = 1 / (1+(np.exp(-(np.dot(w.T, x.T)))))\n",
    "        current_loss = - (1/x.shape[0]) * np.sum(y * np.log(y_pred) + (1-y)*np.log(1-y_pred))\n",
    "        \n",
    "        gradient = list(np.dot((y_pred-y),x)[0]) \n",
    "        \n",
    "        w[current_index] = w[current_index] - etha*gradient[current_index]\n",
    "        digit = digit+1\n",
    "        \n",
    "        loss.append(current_loss)\n",
    "        \n",
    "    return loss \n"
   ]
  },
  {
   "cell_type": "code",
   "execution_count": 94,
   "metadata": {},
   "outputs": [
    {
     "data": {
      "text/plain": [
       "0.34992040138143443"
      ]
     },
     "execution_count": 94,
     "metadata": {},
     "output_type": "execute_result"
    }
   ],
   "source": [
    "loss = coordi_descent(x3_norm_,y3,5000)\n",
    "min(loss)\n"
   ]
  },
  {
   "cell_type": "markdown",
   "metadata": {},
   "source": [
    "## Finally, compare to a method that chooses coordinates i uniformly at random and then updates\n",
    "## wi using your method (we’ll call this “random-feature coordinate descent”)"
   ]
  },
  {
   "cell_type": "code",
   "execution_count": 95,
   "metadata": {},
   "outputs": [],
   "source": [
    "def random_descent(x, y, nbr_iterations,etha=0.01):\n",
    "    \n",
    "    w=np.zeros((x.shape[1],1))\n",
    "    loss=[]\n",
    "    for i in range(nbr_iterations):\n",
    "        current_index = np.random.randint(0,13)\n",
    "        y_pred = 1 / (1+(np.exp(-(np.dot(w.T, x.T)))))\n",
    "        current_loss = - (1/x.shape[0]) * np.sum(y * np.log(y_pred) + (1-y)*np.log(1-y_pred))\n",
    "        \n",
    "        gradient = list(np.dot((y_pred-y),x)[0]) \n",
    "        \n",
    "        w[current_index] = w[current_index] - etha*gradient[current_index]\n",
    "        \n",
    "        loss.append(current_loss)\n",
    "       \n",
    "    return loss \n"
   ]
  },
  {
   "cell_type": "code",
   "execution_count": 96,
   "metadata": {},
   "outputs": [
    {
     "data": {
      "text/plain": [
       "0.3499116775526019"
      ]
     },
     "execution_count": 96,
     "metadata": {},
     "output_type": "execute_result"
    }
   ],
   "source": [
    "loss_random=random_descent(x3_norm_,y3,5000)\n",
    "min(loss_random)"
   ]
  },
  {
   "cell_type": "code",
   "execution_count": 97,
   "metadata": {},
   "outputs": [
    {
     "data": {
      "image/png": "[encoded data removed]",
      "text/plain": [
       "<Figure size 432x288 with 1 Axes>"
      ]
     },
     "metadata": {
      "needs_background": "light"
     },
     "output_type": "display_data"
    }
   ],
   "source": [
    "#Plotting and Showing the polts\n",
    "\n",
    "iteration=np.arange(0,5000)\n",
    "plt.xlabel('iteration')\n",
    "plt.ylabel('loss')\n",
    "plt.title('coordient gradient')\n",
    "plt.plot(iteration,loss,label='iteration error')\n",
    "plt.legend()\n",
    "plt.show()\n"
   ]
  },
  {
   "cell_type": "code",
   "execution_count": null,
   "metadata": {},
   "outputs": [],
   "source": []
  }
 ],
 "metadata": {
  "kernelspec": {
   "display_name": "Python 3",
   "language": "python",
   "name": "python3"
  },
  "language_info": {
   "codemirror_mode": {
    "name": "ipython",
    "version": 3
   },
   "file_extension": ".py",
   "mimetype": "text/x-python",
   "name": "python",
   "nbconvert_exporter": "python",
   "pygments_lexer": "ipython3",
   "version": "3.8.2"
  }
 },
 "nbformat": 4,
 "nbformat_minor": 4
}
